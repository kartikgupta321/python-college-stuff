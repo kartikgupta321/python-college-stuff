{
 "cells": [
  {
   "cell_type": "code",
   "execution_count": 23,
   "metadata": {},
   "outputs": [
    {
     "name": "stdout",
     "output_type": "stream",
     "text": [
      "enter no. of elements in array- 4\n",
      "enter 0th element3\n",
      "enter 1th element4\n",
      "enter 2th element4\n",
      "enter 3th element6\n",
      "your entered array is [3, 4, 4, 6]\n",
      "enter 1 for increasing, 2 for decreasing sort-2\n",
      "enter 1 for bubble, 2 for insertion, 3 for selection sort-1\n",
      "sorted array is [6, 4, 4, 3]\n"
     ]
    }
   ],
   "source": [
    "n=int(input('enter no. of elements in array- '))\n",
    "arr=[]*n\n",
    "for i in range(n):\n",
    "    arr.append(int(input(f'enter {i}th element- ')))\n",
    "print(f'your entered array is {arr}')\n",
    "choice=0\n",
    "choice=int(input('enter 1 for increasing, 2 for decreasing sort-'))\n",
    "if (choice==1):\n",
    "    choice=0\n",
    "    choice=int(input('enter 1 for bubble, 2 for insertion, 3 for selection sort-'))\n",
    "    if(choice==1):\n",
    "        for i in range(n):\n",
    "            for j in range(n-1):\n",
    "                if (arr[j]>arr[j+1]):\n",
    "                    arr[j],arr[j+1]=arr[j+1],arr[j]\n",
    "    elif(choice==2):\n",
    "        for j in range(n):\n",
    "            key=arr[j]\n",
    "            i=j-1\n",
    "            while(i>=0 and arr[i]>key):\n",
    "                arr[i+1]=arr[i]\n",
    "                i=i-1\n",
    "            arr[i+1]=key\n",
    "    elif(choice==3):\n",
    "        for i in range(n):\n",
    "            min=i\n",
    "            for j in range(i+1,n):\n",
    "                if(arr[j]<arr[min]):\n",
    "                    min=j\n",
    "            if (arr[i]>arr[min]):\n",
    "                arr[i],arr[min]=arr[min],arr[i]\n",
    "if (choice==2):\n",
    "    choice=0\n",
    "    choice=int(input('enter 1 for bubble, 2 for insertion, 3 for selection sort-'))\n",
    "    if(choice==1):\n",
    "        for i in range(n):\n",
    "            for j in range(n-1):\n",
    "                if (arr[j]<arr[j+1]):\n",
    "                    arr[j],arr[j+1]=arr[j+1],arr[j]\n",
    "    elif(choice==2):\n",
    "        for j in range(n):\n",
    "            key=arr[j]\n",
    "            i=j-1\n",
    "            while(i>=0 and arr[i]<key):\n",
    "                arr[i+1]=arr[i]\n",
    "                i=i-1\n",
    "            arr[i+1]=key\n",
    "    elif(choice==3):\n",
    "        for i in range(n):\n",
    "            min=i\n",
    "            for j in range(i+1,n):\n",
    "                if(arr[j]>arr[min]):\n",
    "                    min=j\n",
    "            if (arr[i]<arr[min]):\n",
    "                arr[i],arr[min]=arr[min],arr[i]\n",
    "print(f'sorted array is {arr}')"
   ]
  },
  {
   "cell_type": "code",
   "execution_count": null,
   "metadata": {},
   "outputs": [],
   "source": []
  }
 ],
 "metadata": {
  "kernelspec": {
   "display_name": "Python 3",
   "language": "python",
   "name": "python3"
  },
  "language_info": {
   "codemirror_mode": {
    "name": "ipython",
    "version": 3
   },
   "file_extension": ".py",
   "mimetype": "text/x-python",
   "name": "python",
   "nbconvert_exporter": "python",
   "pygments_lexer": "ipython3",
   "version": "3.8.3"
  }
 },
 "nbformat": 4,
 "nbformat_minor": 4
}
