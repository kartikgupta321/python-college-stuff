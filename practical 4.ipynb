{
 "cells": [
  {
   "cell_type": "code",
   "execution_count": 53,
   "metadata": {},
   "outputs": [
    {
     "name": "stdout",
     "output_type": "stream",
     "text": [
      "Enter the numebr of elements you want to sort : 1\n",
      "5\n",
      "enter 1 for radix 2 for quick 3 for shell sort- 1\n",
      "[5]\n"
     ]
    }
   ],
   "source": [
    "A = []\n",
    "n = input(\"Enter the numebr of elements you want to sort : \")\n",
    "n = int(n)\n",
    "for i in range(0, n):\n",
    "    num = int(input())\n",
    "    A.append(num)\n",
    "choice=int(input('enter 1 for radix 2 for quick 3 for shell sort- '))\n",
    "if (size==1):\n",
    "    print(f'sorted array is {arr}')\n",
    "elif(choice==1):\n",
    "    def RadixSort(A):\n",
    "        RADIX = 10\n",
    "        maxLength = False\n",
    "        tmp , placement = -1, 1\n",
    "        while not maxLength:\n",
    "            maxLength = True\n",
    "            buckets = [list() for _ in range(RADIX)]\n",
    "            for  i in A:\n",
    "                tmp = i // placement\n",
    "                buckets[tmp % RADIX].append(i)\n",
    "                if maxLength and tmp > 0:\n",
    "                    maxLength = False\n",
    "            a = 0\n",
    "            for b in range(RADIX):\n",
    "                buck = buckets[b]\n",
    "                for i in buck:\n",
    "                    A[a] = i\n",
    "                    a += 1\n",
    "            placement *= RADIX\n",
    "        return A\n",
    "    print(RadixSort(A))\n",
    "elif(choice==2):\n",
    "    "
   ]
  },
  {
   "cell_type": "code",
   "execution_count": 59,
   "metadata": {},
   "outputs": [],
   "source": []
  },
  {
   "cell_type": "code",
   "execution_count": null,
   "metadata": {},
   "outputs": [],
   "source": []
  }
 ],
 "metadata": {
  "kernelspec": {
   "display_name": "Python 3",
   "language": "python",
   "name": "python3"
  },
  "language_info": {
   "codemirror_mode": {
    "name": "ipython",
    "version": 3
   },
   "file_extension": ".py",
   "mimetype": "text/x-python",
   "name": "python",
   "nbconvert_exporter": "python",
   "pygments_lexer": "ipython3",
   "version": "3.8.3"
  }
 },
 "nbformat": 4,
 "nbformat_minor": 4
}
