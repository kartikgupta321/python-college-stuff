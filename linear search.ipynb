{
 "cells": [
  {
   "cell_type": "code",
   "execution_count": 13,
   "metadata": {},
   "outputs": [
    {
     "name": "stdout",
     "output_type": "stream",
     "text": [
      "Enter the maximum size of your static array- 5\n",
      "enter 0th element of array for linear search- 3\n",
      "enter 1th element of array for linear search- 4\n",
      "enter 2th element of array for linear search- 2\n",
      "enter 3th element of array for linear search- 1\n",
      "enter 4th element of array for linear search- 5\n",
      "enter no. to search- 6\n",
      "value not found\n"
     ]
    }
   ],
   "source": [
    "size=int(input(\"Enter the maximum size of your static array- \"))\n",
    "arr=[None]*size\n",
    "for i in range(0,size):\n",
    "    arr[i]=int(input(f'enter {i}th element of array for linear search- '))\n",
    "val=int(input('enter no. to search- '))\n",
    "for i in range(0,size):\n",
    "    if(arr[i]==val):\n",
    "        print(f'value found at {i} th position')\n",
    "    elif(i==size-1):\n",
    "        print('value not found')"
   ]
  }
 ],
 "metadata": {
  "kernelspec": {
   "display_name": "Python 3",
   "language": "python",
   "name": "python3"
  },
  "language_info": {
   "codemirror_mode": {
    "name": "ipython",
    "version": 3
   },
   "file_extension": ".py",
   "mimetype": "text/x-python",
   "name": "python",
   "nbconvert_exporter": "python",
   "pygments_lexer": "ipython3",
   "version": "3.8.3"
  }
 },
 "nbformat": 4,
 "nbformat_minor": 4
}
