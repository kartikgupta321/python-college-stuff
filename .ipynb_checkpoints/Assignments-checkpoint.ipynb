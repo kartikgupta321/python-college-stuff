{
 "cells": [
  {
   "cell_type": "code",
   "execution_count": 1,
   "metadata": {},
   "outputs": [],
   "source": [
    "costsocial=25\n",
    "costtv=250\n",
    "budget=2500\n",
    "#min max of campaigns\n",
    "socialmin=0\n",
    "socialmax=budget/costtv\n",
    "def nsocial(ntv,budget):\n",
    "    return (budget-250*ntv)/25\n",
    "def ntv(nsocial,budget):\n",
    "    return (budget-25*nsocial)/250\n",
    "from sympy import*\n",
    "s,t,l=symbols('s t l')\n",
    "solve([Eq((21/4)*((t**(1/4))/s**(1/4))-25*l,0),\n",
    "      Eq((7/4)*s**3/4)/t**(3/4)])"
   ]
  },
  {
   "cell_type": "code",
   "execution_count": null,
   "metadata": {},
   "outputs": [],
   "source": []
  }
 ],
 "metadata": {
  "kernelspec": {
   "display_name": "Python 3",
   "language": "python",
   "name": "python3"
  },
  "language_info": {
   "codemirror_mode": {
    "name": "ipython",
    "version": 3
   },
   "file_extension": ".py",
   "mimetype": "text/x-python",
   "name": "python",
   "nbconvert_exporter": "python",
   "pygments_lexer": "ipython3",
   "version": "3.8.3"
  }
 },
 "nbformat": 4,
 "nbformat_minor": 4
}
