{
 "cells": [
  {
   "cell_type": "code",
   "execution_count": 14,
   "metadata": {},
   "outputs": [
    {
     "name": "stdout",
     "output_type": "stream",
     "text": [
      "Enter the maximum size of your static array- 2\n",
      "Enter no. to be inserted- 1\n",
      "1 for insertion at end,2 for insertion in beginning, otherwise exit- 1\n",
      "[1]\n",
      "Enter no. to be inserted- 1\n",
      "1 for insertion at end,2 for insertion in beginning, otherwise exit- 1\n",
      "[1, 1]\n",
      "Enter no. to be inserted- 1\n",
      "1 for insertion at end,2 for insertion in beginning, otherwise exit- 1\n",
      "Overflow condition, Cannot insert More Elements \n"
     ]
    }
   ],
   "source": [
    "size=int(input(\"Enter the maximum size of your static array- \"))\n",
    "arr=[None]*size\n",
    "numOfEmelements=0\n",
    "choice=1\n",
    "while(choice==1 or choice==2):\n",
    "    element=int(input(\"Enter no. to be inserted- \"))\n",
    "    choice=int(input('1 for insertion at end,2 for insertion in beginning, otherwise exit- '))\n",
    "    if(numOfEmelements>=size):      \n",
    "        print(\"Overflow condition, Cannot insert More Elements \")\n",
    "        break\n",
    "    else:\n",
    "        if(choice==1):\n",
    "            arr[numOfEmelements]=element\n",
    "            numOfEmelements+=1\n",
    "            print(arr[:numOfEmelements])\n",
    "        elif(choice==2): \n",
    "            for i in range(numOfEmelements,0,-1):\n",
    "                arr[i]=arr[i-1]\n",
    "                arr[0]=element\n",
    "                numOfEmelements+=1\n",
    "                print(arr[:numOfEmelements])"
   ]
  },
  {
   "cell_type": "markdown",
   "metadata": {},
   "source": [
    " "
   ]
  }
 ],
 "metadata": {
  "kernelspec": {
   "display_name": "Python 3",
   "language": "python",
   "name": "python3"
  },
  "language_info": {
   "codemirror_mode": {
    "name": "ipython",
    "version": 3
   },
   "file_extension": ".py",
   "mimetype": "text/x-python",
   "name": "python",
   "nbconvert_exporter": "python",
   "pygments_lexer": "ipython3",
   "version": "3.8.3"
  }
 },
 "nbformat": 4,
 "nbformat_minor": 4
}
