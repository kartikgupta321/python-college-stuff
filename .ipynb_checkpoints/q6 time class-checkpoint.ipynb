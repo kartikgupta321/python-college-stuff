{
 "cells": [
  {
   "cell_type": "code",
   "execution_count": 28,
   "metadata": {},
   "outputs": [
    {
     "name": "stdout",
     "output_type": "stream",
     "text": [
      "Time is 13 hours and 0 minutes\n",
      "total minutes in time are 780\n"
     ]
    }
   ],
   "source": [
    "class Time():\n",
    "    def __init__(self, hours, mins):\n",
    "        self.hours = hours\n",
    "        self.mins = mins\n",
    "    def addtime(t1, t2):\n",
    "        t3 = Time(0,0)\n",
    "        if (t1.mins+t2.mins) > 60:\n",
    "            t3.hours =int((t1.mins+t2.mins)/60)\n",
    "        t3.hours = t3.hours+t1.hours+t2.hours\n",
    "        t3.mins = (t1.mins+t2.mins)-int((t1.mins+t2.mins)/60)*60\n",
    "        return t3\n",
    "    def displaytime(self):\n",
    "        print (f\"Time is {self.hours} hours and {self.mins} minutes\")\n",
    "    def displayminute(self):\n",
    "        print (f\"total minutes in time are\", self.hours*60+self.mins)\n",
    "T1 = Time(3,500)\n",
    "T2= Time(1,40)\n",
    "T3= Time.addtime(a,b)\n",
    "T3.displaytime()\n",
    "T3.displayminute()"
   ]
  }
 ],
 "metadata": {
  "kernelspec": {
   "display_name": "Python 3",
   "language": "python",
   "name": "python3"
  },
  "language_info": {
   "codemirror_mode": {
    "name": "ipython",
    "version": 3
   },
   "file_extension": ".py",
   "mimetype": "text/x-python",
   "name": "python",
   "nbconvert_exporter": "python",
   "pygments_lexer": "ipython3",
   "version": "3.8.3"
  }
 },
 "nbformat": 4,
 "nbformat_minor": 4
}
