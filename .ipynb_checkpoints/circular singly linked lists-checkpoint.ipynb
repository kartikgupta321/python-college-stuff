{
 "cells": [
  {
   "cell_type": "code",
   "execution_count": 242,
   "metadata": {},
   "outputs": [
    {
     "name": "stdout",
     "output_type": "stream",
     "text": [
      "enter1 for enqueue, 2 for dequeue, 3 for search, 4 for print, exit otherwise-  1\n",
      "entervalue for enqueue- 1\n",
      "enter1 for enqueue, 2 for dequeue, 3 for search, 4 for print, exit otherwise-  1\n",
      "entervalue for enqueue- 2\n",
      "enter1 for enqueue, 2 for dequeue, 3 for search, 4 for print, exit otherwise-  1\n",
      "entervalue for enqueue- 3\n",
      "enter1 for enqueue, 2 for dequeue, 3 for search, 4 for print, exit otherwise-  1\n",
      "entervalue for enqueue- 4\n",
      "enter1 for enqueue, 2 for dequeue, 3 for search, 4 for print, exit otherwise-  14\n"
     ]
    }
   ],
   "source": [
    "class node:\n",
    "    def __init__(self,data):\n",
    "        self.data=data\n",
    "        self.next=None\n",
    "class circularlinkedlist:\n",
    "    def __init__(self): self.head=None\n",
    "    def enqueue(self,k):\n",
    "        new=node(k)\n",
    "        if(self.head is None):\n",
    "            self.head=new\n",
    "            new.next=self.head\n",
    "        else:\n",
    "            last=self.head\n",
    "            while(last.next != self.head):\n",
    "                last=last.next\n",
    "            last.next=new\n",
    "            new.next=self.head\n",
    "    def dequeue(self):\n",
    "        print('original= ',end='')\n",
    "        c1.print()\n",
    "        if(self.head==None):\n",
    "            print('empty list cannot delete')\n",
    "            return\n",
    "        elif(self.head.next==self.head):\n",
    "            self.head=None\n",
    "        else:\n",
    "            ptr1=ptr2=self.head\n",
    "            while(ptr1.next!=self.head):\n",
    "                ptr2=ptr1\n",
    "                ptr1=ptr1.next\n",
    "            ptr2.next=self.head\n",
    "        print('\\nafter dequeueing- ',end='')\n",
    "        c1.print()\n",
    "    def print(self):\n",
    "        ptr=self.head\n",
    "        if(ptr == None):\n",
    "            print('empty list-')\n",
    "        elif(ptr.next == self.head):\n",
    "            print(f'-->{ptr.data}')\n",
    "        else:\n",
    "            ptr=self.head.next\n",
    "            print(f'-->{self.head.data}',end='')\n",
    "            while(ptr != self.head):\n",
    "                print(f'-->{ptr.data}',end='')\n",
    "                ptr=ptr.next\n",
    "    def search(self,k):\n",
    "        temp=self.head\n",
    "        if(temp==None):\n",
    "            print('not found')\n",
    "            return\n",
    "        if( temp.data==k):\n",
    "            print('value found')\n",
    "            return\n",
    "        while(temp.next!=self.head):\n",
    "            if(temp.data==k):\n",
    "                print('\\nvalue found')\n",
    "                return\n",
    "            elif(temp.next.data==k):\n",
    "                print('\\nvalue found')\n",
    "                return\n",
    "            temp=temp.next\n",
    "        print('\\nnot found') \n",
    "c1=circularlinkedlist()\n",
    "while(1):\n",
    "    choice=int(input('enter1 for enqueue, 2 for dequeue, 3 for search, 4 for print, exit otherwise-  ' ))\n",
    "    if(choice==1):\n",
    "        k=int(input('entervalue for enqueue- '))\n",
    "        c1.enqueue(k)\n",
    "    elif(choice==2):\n",
    "              c1.dequeue()\n",
    "    elif(choice==3):\n",
    "        k=int(input('entervalue for search- '))\n",
    "        c1.search(k)\n",
    "    elif(choice==4):\n",
    "        c1.print()\n",
    "    else:\n",
    "         break       "
   ]
  },
  {
   "cell_type": "code",
   "execution_count": null,
   "metadata": {},
   "outputs": [],
   "source": [
    "\n",
    "\n"
   ]
  },
  {
   "cell_type": "code",
   "execution_count": null,
   "metadata": {},
   "outputs": [],
   "source": []
  }
 ],
 "metadata": {
  "kernelspec": {
   "display_name": "Python 3",
   "language": "python",
   "name": "python3"
  },
  "language_info": {
   "codemirror_mode": {
    "name": "ipython",
    "version": 3
   },
   "file_extension": ".py",
   "mimetype": "text/x-python",
   "name": "python",
   "nbconvert_exporter": "python",
   "pygments_lexer": "ipython3",
   "version": "3.8.3"
  }
 },
 "nbformat": 4,
 "nbformat_minor": 4
}
