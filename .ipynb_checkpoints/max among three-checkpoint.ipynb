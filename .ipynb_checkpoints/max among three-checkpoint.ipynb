{
 "cells": [
  {
   "cell_type": "code",
   "execution_count": 2,
   "metadata": {},
   "outputs": [
    {
     "name": "stdout",
     "output_type": "stream",
     "text": [
      "enter first no.-5\n",
      "enter second no.-7\n",
      "enter third no.-8\n",
      "c is maximum\n"
     ]
    }
   ],
   "source": [
    "a=int(input('enter first no.-'))\n",
    "b=int(input('enter second no.-'))\n",
    "c=int(input('enter third no.-'))\n",
    "if a>b:\n",
    "    if a>c:\n",
    "        print('a is maximum')\n",
    "    else:\n",
    "        print('c is maximum')\n",
    "elif b>c:\n",
    "    print('b is maximum')\n",
    "else:\n",
    "    print('c is maximum')"
   ]
  }
 ],
 "metadata": {
  "kernelspec": {
   "display_name": "Python 3",
   "language": "python",
   "name": "python3"
  },
  "language_info": {
   "codemirror_mode": {
    "name": "ipython",
    "version": 3
   },
   "file_extension": ".py",
   "mimetype": "text/x-python",
   "name": "python",
   "nbconvert_exporter": "python",
   "pygments_lexer": "ipython3",
   "version": "3.8.3"
  }
 },
 "nbformat": 4,
 "nbformat_minor": 4
}
