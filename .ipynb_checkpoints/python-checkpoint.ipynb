{
 "cells": [
  {
   "cell_type": "code",
   "execution_count": 2,
   "metadata": {},
   "outputs": [
    {
     "name": "stdout",
     "output_type": "stream",
     "text": [
      "<class 'dict'>\n",
      "<class 'set'>\n",
      "{65, 44, 1}\n",
      "{65}\n",
      "{65, 4}\n",
      "{2, 3, 44}\n",
      "set()\n"
     ]
    }
   ],
   "source": [
    "a={}\n",
    "print(type(a))\n",
    "a=set()\n",
    "print(type(a))\n",
    "s={1,65,44,3,2,44}\n",
    "b={2,3,4}\n",
    "print(s-b)\n",
    "b.add(44)\n",
    "s.remove(1)\n",
    "s.union(b)\n",
    "b.intersection(s)\n",
    "print(s-b)\n",
    "s.symmetric_difference(b)\n",
    "print(s^b)\n",
    "print(s&b)\n",
    "c=s.copy()\n",
    "c.clear()\n",
    "print(c)\n"
   ]
  },
  {
   "cell_type": "code",
   "execution_count": 6,
   "metadata": {},
   "outputs": [
    {
     "name": "stdout",
     "output_type": "stream",
     "text": [
      "182\n"
     ]
    }
   ],
   "source": [
    "x=0\n",
    "sum=0\n",
    "while x<=27:\n",
    "    sum=sum+x\n",
    "    x=x+2\n",
    "print(sum)"
   ]
  },
  {
   "cell_type": "code",
   "execution_count": 7,
   "metadata": {},
   "outputs": [
    {
     "name": "stdout",
     "output_type": "stream",
     "text": [
      "sum is 156\n"
     ]
    }
   ],
   "source": [
    "x=-1\n",
    "sum=0\n",
    "while x<=26:\n",
    "    x=x+2\n",
    "    if x==15 or x==25:\n",
    "        continue\n",
    "    sum=sum+x\n",
    "print(\"sum is\",sum)"
   ]
  },
  {
   "cell_type": "code",
   "execution_count": 5,
   "metadata": {
    "scrolled": true
   },
   "outputs": [
    {
     "name": "stdout",
     "output_type": "stream",
     "text": [
      "kartik has travelled ('india', 'america', 'sweden')\n"
     ]
    }
   ],
   "source": [
    "def f1(name,*country):\n",
    "    print(name,\"has travelled\",country)\n",
    "f1('kartik',\"india\",\"america\",\"sweden\")    \n",
    "\n",
    "\n"
   ]
  },
  {
   "cell_type": "code",
   "execution_count": 9,
   "metadata": {},
   "outputs": [
    {
     "name": "stdout",
     "output_type": "stream",
     "text": [
      "enter the input filename : kartik.txt\n"
     ]
    }
   ],
   "source": [
    "filename=input(\"enter the input filename : \")\n",
    "with open(filename) as file:\n",
    "    buf=file.read()\n",
    "    lines=buf.split('\\n')\n",
    "    for i in lines:\n",
    "        if(i.find(\"print\",0,len(i))!=-1):\n",
    "            print(i)"
   ]
  },
  {
   "cell_type": "code",
   "execution_count": 25,
   "metadata": {},
   "outputs": [
    {
     "name": "stdout",
     "output_type": "stream",
     "text": [
      "9\n"
     ]
    }
   ],
   "source": [
    "with open('kartik.txt') as file1:\n",
    "    buf=file1.read()\n",
    "    vowelno=0\n",
    "    for i in buf:\n",
    "        if(i=='a'or i=='A'or i=='e' or i=='E' or i=='i' or i=='I' or i=='o' or i=='O'\n",
    "           or i=='u' or i=='U'):\n",
    "            vowelno=vowelno+1\n",
    "print(vowelno)\n",
    "file1.close()"
   ]
  },
  {
   "cell_type": "code",
   "execution_count": 21,
   "metadata": {},
   "outputs": [],
   "source": [
    "def palindrome():\n",
    "    f=open(kartik.txt)\n",
    "\n",
    "\n",
    "    \n",
    "    \n",
    "    \n",
    "    \n",
    "    close(kartik.txt)"
   ]
  },
  {
   "cell_type": "code",
   "execution_count": 17,
   "metadata": {},
   "outputs": [
    {
     "name": "stdout",
     "output_type": "stream",
     "text": [
      "['a', 'am', 'and', 'i', 'in', 'is', 'it', 'niit', 'of', 'rajasthan', 'student']\n"
     ]
    }
   ],
   "source": [
    "# l1=[\"niit\",\"alwar\",\"niit\",\"neemrana\"]\n",
    "# print(l1.count(\"niit\"))\n",
    "# print(l1.index(\"neemrana\"))\n",
    "# index=0\n",
    "# for i in l1:\n",
    "#     if i==\"niit\":\n",
    "#         print(index)\n",
    "#         index=index+1\n",
    "l='i am a student of niit and it is in rajasthan'\n",
    "l1=l.split()\n",
    "l2=l1.sort()\n",
    "print(l1)"
   ]
  },
  {
   "cell_type": "code",
   "execution_count": 23,
   "metadata": {},
   "outputs": [
    {
     "name": "stdout",
     "output_type": "stream",
     "text": [
      "{2, 4, 5, 6, 23, 24}\n"
     ]
    }
   ],
   "source": [
    "tp=(4,6,8,4,6,)\n",
    "tp.count(6)\n",
    "s1={2,2,2,23,4,5,6,24,}\n",
    "print(s1)"
   ]
  },
  {
   "cell_type": "code",
   "execution_count": 37,
   "metadata": {},
   "outputs": [
    {
     "name": "stdout",
     "output_type": "stream",
     "text": [
      "🐍\n"
     ]
    }
   ],
   "source": [
    "import emoji\n",
    "print(emoji.emojize(\":snake:\"))"
   ]
  },
  {
   "cell_type": "code",
   "execution_count": 2,
   "metadata": {},
   "outputs": [],
   "source": [
    "a=open(\"kartik.txt\",\"r+\")\n",
    "a.write(\"kartik is a god boy\")\n",
    "a.read()\n",
    "a.close()"
   ]
  },
  {
   "cell_type": "code",
   "execution_count": 4,
   "metadata": {},
   "outputs": [
    {
     "name": "stdout",
     "output_type": "stream",
     "text": [
      "roll 1   sum is 4\n",
      "point= 4\n",
      "roll 2   sum is 9\n",
      "roll 3   sum is 9\n",
      "roll 4   sum is 8\n",
      "roll 5   sum is 5\n",
      "roll 6   sum is 9\n",
      "roll 7   sum is 8\n",
      "roll 8   sum is 10\n",
      "roll 9   sum is 7\n",
      "you lose after 9 roll with sum 7\n",
      "roll 1   sum is 5\n",
      "point= 5\n",
      "roll 2   sum is 5\n",
      "you win after 2 roll with sum 5\n",
      "roll 1   sum is 5\n",
      "point= 5\n",
      "roll 2   sum is 2\n",
      "roll 3   sum is 9\n",
      "roll 4   sum is 4\n",
      "roll 5   sum is 2\n",
      "roll 6   sum is 11\n",
      "roll 7   sum is 10\n",
      "roll 8   sum is 8\n",
      "roll 9   sum is 10\n",
      "roll 10   sum is 9\n",
      "roll 11   sum is 6\n",
      "roll 12   sum is 9\n",
      "roll 13   sum is 10\n",
      "roll 14   sum is 8\n",
      "roll 15   sum is 11\n",
      "roll 16   sum is 9\n",
      "roll 17   sum is 7\n",
      "you lose after 17 roll with sum 7\n"
     ]
    }
   ],
   "source": [
    "#assignment 2\n",
    "# game of chance\n",
    "import random\n",
    "def Q1():\n",
    "    point=0 \n",
    "    rollno=1\n",
    "    while rollno>0:\n",
    "        die1=random.randrange(1,7)\n",
    "        die2=random.randrange(1,7)\n",
    "        sum=die1+die2\n",
    "        print(\"roll\",rollno, \"  sum is\",sum)        \n",
    "        if rollno==1 and (sum==7 or sum==11):\n",
    "            print(f\"you win after 1 roll with sum {sum}\")\n",
    "            break\n",
    "        elif rollno==1 and (sum==2 or sum==3 or sum==12):\n",
    "            print(f\"you lose after 1 roll with sum {sum}\")\n",
    "            break\n",
    "        elif point==0:\n",
    "            point=sum\n",
    "            print(f\"point= {sum}\")\n",
    "        elif sum==point:\n",
    "            print(f\"you win after {rollno} roll with sum {sum}\")\n",
    "            break\n",
    "        elif rollno>1 and sum==7:\n",
    "            print(f\"you lose after {rollno} roll with sum {sum}\")\n",
    "            break\n",
    "        rollno=rollno+1\n",
    "for i in range(0,3):\n",
    "    x= Q1()"
   ]
  },
  {
   "cell_type": "code",
   "execution_count": 12,
   "metadata": {},
   "outputs": [
    {
     "name": "stdout",
     "output_type": "stream",
     "text": [
      "[[ 3  2  0]\n",
      " [ 1 -1  0]\n",
      " [ 0  5  1]]\n",
      "[ 2  4 -1]\n",
      "[ 2. -2.  9.]\n"
     ]
    }
   ],
   "source": [
    "from scipy import linalg\n",
    "import numpy as np\n",
    "a=np.array([[3,2,0],[1,-1,0],[0,5,1]])\n",
    "print(a)\n",
    "print(b)\n",
    "b=np.array([2,4,-1])\n",
    "x=linalg.solve(a,b)\n",
    "print (x)"
   ]
  },
  {
   "cell_type": "code",
   "execution_count": 15,
   "metadata": {},
   "outputs": [
    {
     "name": "stdout",
     "output_type": "stream",
     "text": [
      "[-5.  3.]\n"
     ]
    }
   ],
   "source": [
    "a=np.array([[3,-9],[2,4]])\n",
    "b=np.array([-42,2])\n",
    "x=linalg.solve(a,b)\n",
    "print(x)"
   ]
  },
  {
   "cell_type": "code",
   "execution_count": 17,
   "metadata": {},
   "outputs": [
    {
     "name": "stdout",
     "output_type": "stream",
     "text": [
      "[ 3. -2.  1.]\n"
     ]
    }
   ],
   "source": [
    "from scipy import linalg\n",
    "import numpy as np\n",
    "a=np.array([[1,-2,-1],[2,2,-1],[-1,-1,2]])\n",
    "# print(a)\n",
    "# print(b)\n",
    "b=np.array([6,1,1])\n",
    "x=linalg.solve(a,b)\n",
    "print (x)"
   ]
  },
  {
   "cell_type": "code",
   "execution_count": 33,
   "metadata": {},
   "outputs": [
    {
     "name": "stdout",
     "output_type": "stream",
     "text": [
      "(2.0, 6.836940005037938e-14)\n"
     ]
    }
   ],
   "source": [
    "import scipy.integrate\n",
    "from numpy import exp\n",
    "from math import sqrt\n",
    "f=lambda x,y :64*x*y\n",
    "g=lambda x:0\n",
    "h=lambda y:sqrt(1-4*y**2)\n",
    "i=scipy.integrate.dblquad(f,0,0.5,g,h)\n",
    "print(i)"
   ]
  },
  {
   "cell_type": "code",
   "execution_count": 97,
   "metadata": {},
   "outputs": [
    {
     "data": {
      "image/png": "[encoded data removed]",
      "text/plain": [
       "<Figure size 432x288 with 1 Axes>"
      ]
     },
     "metadata": {
      "needs_background": "light"
     },
     "output_type": "display_data"
    }
   ],
   "source": [
    "import numpy as np\n",
    "import matplotlib.pyplot as plt\n",
    "x1=0\n",
    "y1=0\n",
    "x=[]\n",
    "y=[]\n",
    "for r in range(1,6):\n",
    "    for i in range (0,360):\n",
    "        x1=r*np.cos(i)\n",
    "        y1=r*np.sin(i)\n",
    "        x.append(x1)\n",
    "        y.append(y1)\n",
    "plt.plot(x,y,\"o\")\n",
    "plt.show()"
   ]
  },
  {
   "cell_type": "code",
   "execution_count": 118,
   "metadata": {},
   "outputs": [
    {
     "name": "stdout",
     "output_type": "stream",
     "text": [
      "max is=9 \n",
      "standar deviation is=2.6427968139832467 \n",
      "min is 1\n",
      "average is 5.625 \n",
      "\n",
      "[9, 6, 4, 7, 3, 9, 1, 6]\n"
     ]
    }
   ],
   "source": [
    "a=[]\n",
    "for i in range(0,8):\n",
    "    x=random.randint(1,10)\n",
    "    a.append(x)\n",
    "print(f\"max is={np.max(a)} \\nstandar deviation is={np.std(a)} \\nmin is {np.min(a)}\\naverage is {np.average(a)} \\n\")\n",
    "print(a)"
   ]
  },
  {
   "cell_type": "code",
   "execution_count": 134,
   "metadata": {},
   "outputs": [
    {
     "name": "stdout",
     "output_type": "stream",
     "text": [
      "enter degrees-0\n",
      "sin^2 + cos^2 is 1.0\n"
     ]
    }
   ],
   "source": [
    "degrees=int(input(\"enter degrees-\"))\n",
    "a=np.sin(degrees)\n",
    "b=np.cos(degrees)\n",
    "print(f\"sin^2 + cos^2 is {a**2+b**2}\")"
   ]
  },
  {
   "cell_type": "code",
   "execution_count": null,
   "metadata": {},
   "outputs": [],
   "source": []
  }
 ],
 "metadata": {
  "kernelspec": {
   "display_name": "Python 3",
   "language": "python",
   "name": "python3"
  },
  "language_info": {
   "codemirror_mode": {
    "name": "ipython",
    "version": 3
   },
   "file_extension": ".py",
   "mimetype": "text/x-python",
   "name": "python",
   "nbconvert_exporter": "python",
   "pygments_lexer": "ipython3",
   "version": "3.8.3"
  }
 },
 "nbformat": 4,
 "nbformat_minor": 4
}
