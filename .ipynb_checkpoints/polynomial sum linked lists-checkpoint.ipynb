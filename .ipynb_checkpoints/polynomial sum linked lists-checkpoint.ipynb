{
 "cells": [
  {
   "cell_type": "code",
   "execution_count": 23,
   "metadata": {},
   "outputs": [
    {
     "name": "stdout",
     "output_type": "stream",
     "text": [
      "polynomial 1 is - 5x^3 + 4x^2 + 2x^0\n",
      "\n",
      "polynomial 2 is - 5x^1 + -5x^0\n",
      "\n",
      "sum of both polynomials is- 5x^3 + 4x^2 + -3x^0 + 5x^1\n",
      "\n"
     ]
    }
   ],
   "source": [
    "class Node:\n",
    "    def __init__(self,coeff,power):\n",
    "        self.coeff = coeff\n",
    "        self.power = power\n",
    "        self.next = None\n",
    "class linkedlist:\n",
    "    def __init__(self):\n",
    "        self.head=None\n",
    "    def append(self,coeff,power):\n",
    "        new=Node(coeff,power)\n",
    "        if self.head==None:\n",
    "            self.head=new\n",
    "        else:\n",
    "            last=self.head\n",
    "            while(last.next):\n",
    "                last=last.next\n",
    "            last.next=new\n",
    "    def print(self):\n",
    "        ptr=self.head\n",
    "        while(ptr!=None):\n",
    "            print(f' {ptr.coeff}x^{ptr.power}', end='')\n",
    "            if ptr.next!=None:\n",
    "                print(' +',end='')\n",
    "            ptr=ptr.next\n",
    "        print('\\n')\n",
    "def add(head1,head2):\n",
    "    while head1!=None:\n",
    "        poly3.append(head1.coeff,head1.power)\n",
    "        head1=head1.next\n",
    "    while head2!=None:\n",
    "        poly3.append(head2.coeff,head2.power)\n",
    "        head2=head2.next\n",
    "    ptr2 = None\n",
    "    dup = None\n",
    "    ptr1 = poly3.head\n",
    "    while (ptr1 != None and ptr1.next != None):\n",
    "        ptr2 = ptr1\n",
    "        while (ptr2.next != None):\n",
    "            if (ptr1.power == ptr2.next.power):\n",
    "                ptr1.coeff = ptr1.coeff + ptr2.next.coeff\n",
    "                dup = ptr2.next\n",
    "                ptr2.next = ptr2.next.next\n",
    "            else:\n",
    "                ptr2 = ptr2.next\n",
    "        ptr1 = ptr1.next\n",
    "poly1=linkedlist()\n",
    "poly2=linkedlist()\n",
    "poly3=linkedlist()\n",
    "\n",
    "poly1.append(5,3)\n",
    "poly1.append(4,2)\n",
    "poly1.append(2,0)\n",
    "print('polynomial 1 is -',end='')\n",
    "poly1.print()\n",
    "\n",
    "poly2.append(5,1)\n",
    "poly2.append(-5,0)\n",
    "print('polynomial 2 is -',end='')\n",
    "poly2.print()     \n",
    "\n",
    "poly3=linkedlist()\n",
    "add(poly1.head,poly2.head)\n",
    "print('sum of both polynomials is-',end='')\n",
    "poly3.print()"
   ]
  },
  {
   "cell_type": "code",
   "execution_count": null,
   "metadata": {},
   "outputs": [],
   "source": []
  }
 ],
 "metadata": {
  "celltoolbar": "Raw Cell Format",
  "kernelspec": {
   "display_name": "Python 3",
   "language": "python",
   "name": "python3"
  },
  "language_info": {
   "codemirror_mode": {
    "name": "ipython",
    "version": 3
   },
   "file_extension": ".py",
   "mimetype": "text/x-python",
   "name": "python",
   "nbconvert_exporter": "python",
   "pygments_lexer": "ipython3",
   "version": "3.8.3"
  }
 },
 "nbformat": 4,
 "nbformat_minor": 4
}
