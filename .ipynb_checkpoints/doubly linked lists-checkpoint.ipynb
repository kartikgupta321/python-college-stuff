{
 "cells": [
  {
   "cell_type": "code",
   "execution_count": 3,
   "metadata": {},
   "outputs": [
    {
     "name": "stdout",
     "output_type": "stream",
     "text": [
      "\n",
      "Traversal in forward direction-\n",
      "1 -> 2 -> 3 -> 2 -> 1 -> \n",
      "it is palindrome\n"
     ]
    }
   ],
   "source": [
    "class Node:\n",
    "    def __init__(self, next=None, prev=None, data=None):\n",
    "        self.next = next \n",
    "        self.prev = prev \n",
    "        self.data = data\n",
    "class doublylinkedlist:\n",
    "    def __init__(self):\n",
    "        self.head = None\n",
    "    def append(self, new_data):\n",
    "        new_node = Node(data = new_data)\n",
    "        last = self.head\n",
    "        new_node.next = None\n",
    "        if self.head is None:\n",
    "            \n",
    "            \n",
    "            new_node.prev = None\n",
    "            self.head = new_node\n",
    "            return\n",
    "        while (last.next is not None):\n",
    "            last = last.next\n",
    "        last.next = new_node\n",
    "        new_node.prev = last\n",
    "    def print(self, node):\n",
    "        print (\"\\nTraversal in forward direction-\")\n",
    "        while node:\n",
    "            print (node.data,'-> ',end='')\n",
    "            last = node\n",
    "            node = node.next\n",
    "def isPalindrome(left): \n",
    "    if left == None:  \n",
    "        return True  \n",
    "    right = left  \n",
    "    while right.next != None:  \n",
    "        right = right.next \n",
    "    while left != right: \n",
    "        if left.data != right.data:  \n",
    "            return False   \n",
    "        left = left.next \n",
    "        right = right.prev\n",
    "    return True\n",
    "l=doublylinkedlist()\n",
    "l.append(1)\n",
    "l.append(2)\n",
    "l.append(3)\n",
    "l.append(2)\n",
    "l.append(1)\n",
    "l.print(l.head)\n",
    "if(isPalindrome(l.head)==True):\n",
    "    print('\\nit is palindrome')\n",
    "else:\n",
    "    \n",
    "    \n",
    "    print('\\nnot palindrome')"
   ]
  },
  {
   "cell_type": "code",
   "execution_count": null,
   "metadata": {},
   "outputs": [],
   "source": []
  }
 ],
 "metadata": {
  "kernelspec": {
   "display_name": "Python 3",
   "language": "python",
   "name": "python3"
  },
  "language_info": {
   "codemirror_mode": {
    "name": "ipython",
    "version": 3
   },
   "file_extension": ".py",
   "mimetype": "text/x-python",
   "name": "python",
   "nbconvert_exporter": "python",
   "pygments_lexer": "ipython3",
   "version": "3.8.3"
  }
 },
 "nbformat": 4,
 "nbformat_minor": 4
}
