{
 "cells": [
  {
   "cell_type": "code",
   "execution_count": 32,
   "metadata": {},
   "outputs": [
    {
     "name": "stdout",
     "output_type": "stream",
     "text": [
      "enter no. of terms in fibonacci series6\n",
      "0 1 1 2 3 5 "
     ]
    }
   ],
   "source": [
    "n=int(input(\"enter no. of terms in fibonacci series\"))\n",
    "def fib(n):\n",
    "    f1=0\n",
    "    f2=1\n",
    "    if n==1:\n",
    "        print(0)\n",
    "    else:\n",
    "        print(f1,f2,end=' ')\n",
    "        for i in range(2,n):\n",
    "            f3=f1+f2\n",
    "            f1=f2\n",
    "            f2=f3\n",
    "            print(f3,end=' ')\n",
    "fib(n)"
   ]
  }
 ],
 "metadata": {
  "kernelspec": {
   "display_name": "Python 3",
   "language": "python",
   "name": "python3"
  },
  "language_info": {
   "codemirror_mode": {
    "name": "ipython",
    "version": 3
   },
   "file_extension": ".py",
   "mimetype": "text/x-python",
   "name": "python",
   "nbconvert_exporter": "python",
   "pygments_lexer": "ipython3",
   "version": "3.8.3"
  }
 },
 "nbformat": 4,
 "nbformat_minor": 4
}
