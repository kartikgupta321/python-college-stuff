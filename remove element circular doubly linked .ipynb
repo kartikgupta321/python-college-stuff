{
 "cells": [
  {
   "cell_type": "code",
   "execution_count": 85,
   "metadata": {},
   "outputs": [
    {
     "name": "stdout",
     "output_type": "stream",
     "text": [
      "enter value for removal- 9\n",
      "\n",
      "\n",
      "-->5-->5-->6-->5"
     ]
    }
   ],
   "source": [
    "class Node:\n",
    "    def __init__(self,data, next=None,prev=None):\n",
    "        self.next = next \n",
    "        self.prev = prev \n",
    "        self.data = data\n",
    "class circulardoublylinked:\n",
    "    def __init__(self):\n",
    "        self.head=None\n",
    "    def append(self,data):\n",
    "        new=Node(data)\n",
    "        last=self.head\n",
    "        if self.head==None:\n",
    "            self.head=new\n",
    "            new.next=new\n",
    "            new.prev=new\n",
    "        else:\n",
    "            new.next=self.head\n",
    "            new.prev=self.head.prev\n",
    "            self.head.prev.next=new\n",
    "            self.head.prev=new\n",
    "    def delete(self,k):\n",
    "            ptr=self.head.next\n",
    "            while(ptr.next!=self.head):\n",
    "                if(ptr.data==k):\n",
    "                    ptr.prev.next=ptr.next\n",
    "                    ptr.next.prev=ptr.prev\n",
    "                ptr=ptr.next\n",
    "            if(self.head.data==k):\n",
    "                self.head.prev.next=self.head.next\n",
    "                self.head.next.prev=self.head.prev\n",
    "                self.head=self.head.next\n",
    "            if(self.head.prev.data==k):\n",
    "                ptr=self.head.prev\n",
    "                ptr.prev.next=self.head\n",
    "                self.head.prev=ptr.prev\n",
    "            if(self.head.next==self.head and self.head.data==k):\n",
    "                self.head=None\n",
    "    def print(self):\n",
    "        print('\\n')\n",
    "        ptr=self.head\n",
    "        if(ptr == None):\n",
    "            print('empty list-')\n",
    "        elif(ptr.next == self.head):\n",
    "            print(f'-->{ptr.data}')\n",
    "        else:\n",
    "            ptr=self.head.next\n",
    "            print(f'-->{self.head.data}',end='')\n",
    "            while(ptr != self.head):\n",
    "                print(f'-->{ptr.data}',end='')\n",
    "                ptr=ptr.next\n",
    "c1=circulardoublylinked()\n",
    "c1.append(5)\n",
    "c1.append(5)\n",
    "c1.append(6)\n",
    "c1.append(5)\n",
    "val=int(input('enter value for removal- '))\n",
    "c1.delete(val)\n",
    "c1.print()"
   ]
  },
  {
   "cell_type": "code",
   "execution_count": null,
   "metadata": {},
   "outputs": [],
   "source": []
  }
 ],
 "metadata": {
  "kernelspec": {
   "display_name": "Python 3",
   "language": "python",
   "name": "python3"
  },
  "language_info": {
   "codemirror_mode": {
    "name": "ipython",
    "version": 3
   },
   "file_extension": ".py",
   "mimetype": "text/x-python",
   "name": "python",
   "nbconvert_exporter": "python",
   "pygments_lexer": "ipython3",
   "version": "3.8.3"
  }
 },
 "nbformat": 4,
 "nbformat_minor": 4
}
