{
 "cells": [
  {
   "cell_type": "code",
   "execution_count": 4,
   "metadata": {},
   "outputs": [
    {
     "name": "stdout",
     "output_type": "stream",
     "text": [
      "enter size of queue- 4\n",
      "enter 1 for Cenqueu 2 for Cdequeue, exit otherwise- 1\n",
      "enter value to insert- 5\n",
      "[5, None, None, None]\n",
      "enter 1 for Cenqueu 2 for Cdequeue, exit otherwise- 4\n"
     ]
    }
   ],
   "source": [
    "max=int(input('enter size of queue- '))\n",
    "Q=[None]*max\n",
    "front=-1\n",
    "rear=0\n",
    "while 1:\n",
    "    choice=int(input('enter 1 for Cenqueu 2 for Cdequeue, exit otherwise- '))\n",
    "    if (choice==1):\n",
    "        num=int(input('enter value to insert- '))\n",
    "        if (front==(rear+1)%max):\n",
    "            print('overflow')\n",
    "            print(Q)\n",
    "            continue\n",
    "        elif(front==-1):\n",
    "            rear=front=0\n",
    "        else:\n",
    "            rear=(rear+1)%max\n",
    "        Q[rear]=num\n",
    "        print(Q)\n",
    "    elif(choice==2):\n",
    "        if(front==-1):\n",
    "            print('underflow')\n",
    "            print(Q)\n",
    "            continue\n",
    "        elif(front==rear):\n",
    "            front=rear=-1\n",
    "        else:\n",
    "            front=(front+1)%max\n",
    "        Q[front-1]=None\n",
    "        print(Q)\n",
    "    else:\n",
    "        break"
   ]
  },
  {
   "cell_type": "markdown",
   "metadata": {},
   "source": []
  }
 ],
 "metadata": {
  "kernelspec": {
   "display_name": "Python 3",
   "language": "python",
   "name": "python3"
  },
  "language_info": {
   "codemirror_mode": {
    "name": "ipython",
    "version": 3
   },
   "file_extension": ".py",
   "mimetype": "text/x-python",
   "name": "python",
   "nbconvert_exporter": "python",
   "pygments_lexer": "ipython3",
   "version": "3.8.3"
  }
 },
 "nbformat": 4,
 "nbformat_minor": 4
}
