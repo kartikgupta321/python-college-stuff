{
 "cells": [
  {
   "cell_type": "code",
   "execution_count": 17,
   "metadata": {},
   "outputs": [
    {
     "name": "stdout",
     "output_type": "stream",
     "text": [
      "First List is \n",
      "1\n",
      "4\n",
      "5\n",
      "\n",
      "Second List is \n",
      "0\n",
      "5\n",
      "9\n",
      "9\n",
      "\n",
      "Resultant list is \n",
      "1\n",
      "9\n",
      "4\n",
      "0\n",
      "1\n"
     ]
    }
   ],
   "source": [
    "class Node:\n",
    "    def __init__(self, data):\n",
    "        self.data = data\n",
    "        self.next = None\n",
    "class LinkedList:\n",
    "    def __init__(self):\n",
    "        self.head = None\n",
    "    def push(self, new_data):\n",
    "        new_node = Node(new_data)\n",
    "        new_node.next = self.head\n",
    "        self.head = new_node\n",
    "    def addTwoLists(self, first, second):\n",
    "        prev = None\n",
    "        temp = None\n",
    "        carry = 0\n",
    "        while(first is not None or second is not None):\n",
    "            fdata = 0 if first is None else first.data\n",
    "            sdata = 0 if second is None else second.data\n",
    "            Sum = carry + fdata + sdata\n",
    "            carry = 1 if Sum >= 10 else 0\n",
    "            Sum = Sum if Sum < 10 else Sum % 10\n",
    "            temp = Node(Sum)\n",
    "            if self.head is None:\n",
    "                self.head = temp\n",
    "            else:\n",
    "                prev.next = temp        \n",
    "            prev = temp\n",
    "            if first is not None:\n",
    "                first = first.next\n",
    "            if second is not None:\n",
    "                second = second.next\n",
    "        if carry > 0:\n",
    "            temp.next = Node(carry)\n",
    "    def printList(self):\n",
    "        temp = self.head\n",
    "        while(temp):\n",
    "            print (temp.data)\n",
    "            temp = temp.next\n",
    "first = LinkedList()\n",
    "second = LinkedList()\n",
    " \n",
    "first.push(5)\n",
    "first.push(4)\n",
    "first.push(1)\n",
    "print (\"First List is \")\n",
    "first.printList()\n",
    "\n",
    "second.push(9)\n",
    "second.push(9)\n",
    "second.push(5)\n",
    "second.push(0)\n",
    "\n",
    "print (\"\\nSecond List is \")\n",
    "second.printList()\n",
    " \n",
    "\n",
    "res = LinkedList()\n",
    "res.addTwoLists(first.head, second.head)\n",
    "print (\"\\nResultant list is \")\n",
    "res.printList()\n",
    " "
   ]
  },
  {
   "cell_type": "code",
   "execution_count": null,
   "metadata": {},
   "outputs": [],
   "source": []
  }
 ],
 "metadata": {
  "kernelspec": {
   "display_name": "Python 3",
   "language": "python",
   "name": "python3"
  },
  "language_info": {
   "codemirror_mode": {
    "name": "ipython",
    "version": 3
   },
   "file_extension": ".py",
   "mimetype": "text/x-python",
   "name": "python",
   "nbconvert_exporter": "python",
   "pygments_lexer": "ipython3",
   "version": "3.8.3"
  }
 },
 "nbformat": 4,
 "nbformat_minor": 4
}
