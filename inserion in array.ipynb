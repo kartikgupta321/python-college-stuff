{
 "cells": [
  {
   "cell_type": "code",
   "execution_count": null,
   "metadata": {},
   "outputs": [
    {
     "name": "stdout",
     "output_type": "stream",
     "text": [
      "Enter the maximum size of your static array- 5\n",
      "Enter no. to be inserted- 1\n",
      "1 end insertion\n",
      "2 beginning insertion\n",
      "3 insertion at given location\n",
      "4 insertion after given value\n",
      " otherwise exit- 1\n",
      "[1]\n",
      "Enter no. to be inserted- 2\n",
      "1 end insertion\n",
      "2 beginning insertion\n",
      "3 insertion at given location\n",
      "4 insertion after given value\n",
      " otherwise exit- 2\n",
      "[2, 1]\n",
      "Enter no. to be inserted- 3\n",
      "1 end insertion\n",
      "2 beginning insertion\n",
      "3 insertion at given location\n",
      "4 insertion after given value\n",
      " otherwise exit- 4\n",
      "enter value for insertion after value- 2\n"
     ]
    }
   ],
   "source": [
    "size=int(input(\"Enter the maximum size of your static array- \"))\n",
    "arr=[None]*size\n",
    "N=0\n",
    "choice=1\n",
    "while(choice==1 or choice==2 or choice==3 or choice ==4):\n",
    "    element=int(input(\"Enter no. to be inserted- \"))\n",
    "    choice=int(input('1 end insertion\\n2 beginning insertion\\n3' \n",
    "                    ' insertion at given location\\n4 insertion after given value\\n otherwise exit- '))\n",
    "    if(N>=size):      \n",
    "        print(\"Overflow condition, Cannot insert More Elements \")\n",
    "        break\n",
    "    else:\n",
    "        if(choice==1):\n",
    "            arr[N]=element\n",
    "            N+=1\n",
    "            print(arr[:N])\n",
    "        elif (choice==2):\n",
    "            for i in range(N,0,-1):\n",
    "                arr[i]=arr[i-1]\n",
    "            arr[0]=element\n",
    "            N+=1\n",
    "            print(arr[:N])\n",
    "        elif(choice==3):\n",
    "            loc=int(input('enter location to enter element- '))\n",
    "            if(loc==0):\n",
    "                i = N\n",
    "                while (i>0) :\n",
    "                    arr[i]=arr[i-1]\n",
    "                    i = i-1\n",
    "                arr[0]=element\n",
    "            elif(loc==N):\n",
    "                arr[N]=element\n",
    "            else:\n",
    "                i = N\n",
    "                while (i >loc):\n",
    "                    arr[i] = arr[i-1]\n",
    "                    i = i - 1\n",
    "                arr[loc] =element\n",
    "            N=N+1\n",
    "            print(arr[:size])\n",
    "        elif(choice==4):\n",
    "            val=int(input('enter value for insertion after value- '))\n",
    "            for s in range(0,size):\n",
    "                if(arr[s]==val):\n",
    "                    i = s\n",
    "                    while (i < size-2):\n",
    "                        arr[i] = arr[i+1]\n",
    "                    i =i + 1\n",
    "                    arr[s+1]=element\n",
    "                else:\n",
    "                    print('enter valid value')\n",
    "            arr[s+1]=element\n",
    "            print(arr[:size])"
   ]
  },
  {
   "cell_type": "markdown",
   "metadata": {},
   "source": [
    " "
   ]
  }
 ],
 "metadata": {
  "kernelspec": {
   "display_name": "Python 3",
   "language": "python",
   "name": "python3"
  },
  "language_info": {
   "codemirror_mode": {
    "name": "ipython",
    "version": 3
   },
   "file_extension": ".py",
   "mimetype": "text/x-python",
   "name": "python",
   "nbconvert_exporter": "python",
   "pygments_lexer": "ipython3",
   "version": "3.8.3"
  }
 },
 "nbformat": 4,
 "nbformat_minor": 4
}
