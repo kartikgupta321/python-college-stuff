{
 "cells": [
  {
   "cell_type": "code",
   "execution_count": 1,
   "metadata": {},
   "outputs": [
    {
     "name": "stdout",
     "output_type": "stream",
     "text": [
      "Enter the maximum size of your static array- 5\n",
      "enter 0th element- 1\n",
      "enter 1th element- 2\n",
      "enter 2th element- 3\n",
      "enter 3th element- 4\n",
      "enter 4th element- 5\n",
      "[1, 2, 3, 4, 5]\n"
     ]
    }
   ],
   "source": [
    "size=int(input(\"Enter the maximum size of your static array- \"))\n",
    "arr=[None]*size\n",
    "for i in range(0,size):\n",
    "    arr[i]=int(input(f'enter {i}th element- '))\n",
    "print(arr[:size])\n",
    "choice=1\n",
    "N=size\n",
    "while(choice==1 or choice==2 or choice==3 or choice==4):\n",
    "    choice=int(input('1 end deletion\\n2 beginning deletion\\n3' \n",
    "                    ' deletion at given location\\n4 deletion after given value\\n otherwise exit- '))\n",
    "    if(N==0):\n",
    "        print('array underflow')\n",
    "    elif(choice==1):\n",
    "        arr[n-1]=None\n",
    "        N=N-1\n",
    "    elif(choice==2):\n",
    "        i=0\n",
    "        while(i<n-1):\n",
    "            arr[i]=arr[i+1]\n",
    "            i=i+1\n",
    "        arr[0]=None\n",
    "        N=N-1\n",
    "        "
   ]
  },
  {
   "cell_type": "code",
   "execution_count": null,
   "metadata": {},
   "outputs": [],
   "source": []
  }
 ],
 "metadata": {
  "kernelspec": {
   "display_name": "Python 3",
   "language": "python",
   "name": "python3"
  },
  "language_info": {
   "codemirror_mode": {
    "name": "ipython",
    "version": 3
   },
   "file_extension": ".py",
   "mimetype": "text/x-python",
   "name": "python",
   "nbconvert_exporter": "python",
   "pygments_lexer": "ipython3",
   "version": "3.8.3"
  }
 },
 "nbformat": 4,
 "nbformat_minor": 4
}
