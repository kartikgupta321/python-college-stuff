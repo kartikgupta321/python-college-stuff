{
 "cells": [
  {
   "cell_type": "code",
   "execution_count": 18,
   "metadata": {},
   "outputs": [
    {
     "name": "stdout",
     "output_type": "stream",
     "text": [
      "you entered 3 as radius and 3 as height of cylinder\n",
      "volume of cylinder is  84.78\n",
      "total surface area is  113.03999999999999\n"
     ]
    }
   ],
   "source": [
    "class Cylinder:\n",
    "    def __init__(self,radius,height):\n",
    "        self.radius=radius\n",
    "        self.height=height  \n",
    "    def printdetails(self):\n",
    "        print(f\"you entered {self.radius} as radius and {self.height} as height of cylinder\")\n",
    "    def volume(self):\n",
    "        print('volume of cylinder is ',3.14*self.radius**2*self.height)\n",
    "    def total_surface_area(self):\n",
    "        print('total surface area is ',2*3.14*self.radius*(self.radius+self.height))\n",
    "c1=Cylinder(3,3)\n",
    "c1.printdetails()\n",
    "c1.volume()\n",
    "c1.total_surface_area()"
   ]
  }
 ],
 "metadata": {
  "kernelspec": {
   "display_name": "Python 3",
   "language": "python",
   "name": "python3"
  },
  "language_info": {
   "codemirror_mode": {
    "name": "ipython",
    "version": 3
   },
   "file_extension": ".py",
   "mimetype": "text/x-python",
   "name": "python",
   "nbconvert_exporter": "python",
   "pygments_lexer": "ipython3",
   "version": "3.8.3"
  }
 },
 "nbformat": 4,
 "nbformat_minor": 4
}
