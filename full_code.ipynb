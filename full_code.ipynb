{
 "cells": [
  {
   "cell_type": "code",
   "execution_count": 1,
   "metadata": {},
   "outputs": [
    {
     "name": "stdout",
     "output_type": "stream",
     "text": [
      "Harry is \n",
      " good boy \t1\n"
     ]
    }
   ],
   "source": [
    "#Please dont remove this line\n",
    "\"\"\"\n",
    "This is a\n",
    "Multiline Comment\n",
    "\"\"\"\n",
    "\"\"\"\n",
    "This is a comment\n",
    "\"\"\"\n",
    "# print(\"Subscribe CodeWithHarry now\",\"Bhai video bhi like kar dena\")\n",
    "# print(\"next line\")\n",
    "# print(\"C:\\'narry\")\n",
    "print(\"Harry is \\n good boy \\t1\") #comment after statement\n"
   ]
  },
  {
   "cell_type": "code",
   "execution_count": 2,
   "metadata": {},
   "outputs": [
    {
     "name": "stdout",
     "output_type": "stream",
     "text": [
      "Enter first number\n",
      "34\n",
      "Enter second number\n",
      "43\n",
      "Sum of these two numbers is 77\n"
     ]
    }
   ],
   "source": [
    "var1 = \"54\"\n",
    "var4 = \"32\"\n",
    "var2 = 4\n",
    "var3 = 36.7\n",
    "# print(100 * str(int(var1) + int(var4)) )\n",
    "# print(100 * \"Hello world\\n\")\n",
    "# print(\"Enter your number\")\n",
    "# inpnum = input()\n",
    "#\n",
    "# print(\"You entered\", int(inpnum)+10)\n",
    "\"\"\"\n",
    "str()\n",
    "int()\n",
    "float()\n",
    "\"\"\"\n",
    "\n",
    "\"\"\"\n",
    "Quiz - Solved in the video\n",
    "Exercise - Next video\n",
    "Project - Some awesome python utility\n",
    "\"\"\"\n",
    "# print(type(var1))\n",
    "\n",
    "print(\"Enter first number\")\n",
    "n1 = input()\n",
    "print(\"Enter second number\")\n",
    "n2 = input()\n",
    "print(\"Sum of these two numbers is\", int(n1) + int(n2))\n"
   ]
  },
  {
   "cell_type": "code",
   "execution_count": 3,
   "metadata": {},
   "outputs": [
    {
     "name": "stdout",
     "output_type": "stream",
     "text": [
      "False\n",
      "3\n",
      "Harry is a good boy\n",
      "Harry are a good boy\n"
     ]
    }
   ],
   "source": [
    "mystr = \"Harry is a good boy\"\n",
    "# print(len(mystr))\n",
    "# print(mystr[::-2])\n",
    "\n",
    "print(mystr.endswith(\"bdoy\"))\n",
    "print(mystr.count(\"o\"))\n",
    "print(mystr.capitalize())\n",
    "print(mystr.replace(\"is\", \"are\"))\n"
   ]
  },
  {
   "cell_type": "code",
   "execution_count": 4,
   "metadata": {},
   "outputs": [
    {
     "name": "stdout",
     "output_type": "stream",
     "text": [
      "8 1\n"
     ]
    }
   ],
   "source": [
    "grocery = [\"Harpic\", \"vim bar\", \"deodrant\", \"Bhindi\",\n",
    "           \"Lollypop\", 56]\n",
    "# print(grocery[5])\n",
    "numbers = [2, 7, 9, 11, 3]\n",
    "# numbers.remove(9)\n",
    "# numbers.pop()\n",
    "# numbers.sort()\n",
    "# numbers = []\n",
    "# numbers.reverse()\n",
    "# numbers.append(1)\n",
    "# numbers.append(72)\n",
    "# numbers.append(5)\n",
    "# numbers.insert(2, 67)\n",
    "# print(numbers)\n",
    "# 3, 11, 9, 7, 2\n",
    "# print(numbers)\n",
    "# numbers[1] = 98\n",
    "# print(numbers)\n",
    "# Mutable - can change\n",
    "# Immutable - cannot change\n",
    "# tp = (1,)\n",
    "# print(tp)\n",
    "a= 1\n",
    "b = 8\n",
    "a, b = b,a\n",
    "# temp = a\n",
    "# a = b\n",
    "# b = temp\n",
    "print(a, b)\n",
    "\n"
   ]
  },
  {
   "cell_type": "code",
   "execution_count": 5,
   "metadata": {},
   "outputs": [],
   "source": [
    "# Dictionary is nothing but key value pairs\n",
    "d1 = {}\n",
    "# print(type(d1))\n",
    "d2 = {\"Harry\":\"Burger\",\n",
    "      \"Rohan\":\"Fish\",\n",
    "      \"SkillF\":\"Roti\",\n",
    "      \"Shubham\":{\"B\":\"maggie\", \"L\":\"roti\", \"D\":\"Chicken\"}}\n",
    "# d2[\"Ankit\"] = \"Junk Food\"\n",
    "# d2[420] = \"Kebabs\"\n",
    "# print(d2)\n",
    "# del d2[420]\n",
    "# print(d2[\"Shubham\"])\n",
    "# d3 = d2.copy()\n",
    "# del d3[\"Harry\"]\n",
    "# d2.update({\"Leena\":\"Toffee\"})\n",
    "# print(d2.keys())\n",
    "# print(d2.items())\n"
   ]
  },
  {
   "cell_type": "code",
   "execution_count": 6,
   "metadata": {},
   "outputs": [
    {
     "name": "stdout",
     "output_type": "stream",
     "text": [
      "True\n"
     ]
    }
   ],
   "source": [
    "s = set()\n",
    "# print(type(s))\n",
    "# l = [1, 2, 3, 4]\n",
    "# s_from_list = set(l)\n",
    "# print(s_from_list)\n",
    "# print(type(s_from_list))\n",
    "s.add(1)\n",
    "s.add(2)\n",
    "s.remove(2)\n",
    "s1 = {4, 6}\n",
    "print(s.isdisjoint(s1))\n",
    "\n"
   ]
  },
  {
   "cell_type": "code",
   "execution_count": 7,
   "metadata": {},
   "outputs": [
    {
     "name": "stdout",
     "output_type": "stream",
     "text": [
      "What is your age?\n",
      "18\n",
      "We will think about you\n"
     ]
    }
   ],
   "source": [
    "# var1 = 6\n",
    "# var2 = 56\n",
    "# var3 = int(input())\n",
    "# if var3>var2:\n",
    "#     print(\"Greater\")\n",
    "# elif var3==var2:\n",
    "#     print(\"Equal\")\n",
    "# else:\n",
    "#     print(\"Lesser\")\n",
    "\n",
    "# list1 = [5, 7, 3]\n",
    "# print(15 not in list1)\n",
    "# if 15 not in list1:\n",
    "#     print(\"No its not in the list\")\n",
    "\n",
    "# Quiz\n",
    "print(\"What is your age?\")\n",
    "age = int(input())\n",
    "if age<18:\n",
    "    print(\"You cannot drive\")\n",
    "\n",
    "elif age==18:\n",
    "    print(\"We will think about you\")\n",
    "\n",
    "else:\n",
    "    print(\"You can drive\")\n",
    "\n",
    "\n",
    "\n"
   ]
  },
  {
   "cell_type": "code",
   "execution_count": 8,
   "metadata": {},
   "outputs": [
    {
     "name": "stdout",
     "output_type": "stream",
     "text": [
      "Enter the Word\n",
      "ignore\n",
      "ignore means refuse to take notice of or acknowledge\n"
     ]
    }
   ],
   "source": [
    "# Create a dictionary and take input from the user and return the meaning of the\n",
    "# word from the dictionary\n",
    "\n",
    "Dict = {\"ignore\":\"refuse to take notice of or acknowledge\", \"abandon\":\"cease to support or look after\",\n",
    "        \"exaggerate\":\"enlarged or altered beyond normal proportions\", \"prejudice\":\"preconceived opinion that is not based on reason or actual experience\"}\n",
    "print(\"Enter the Word\")\n",
    "Data1 = input()\n",
    "print(Data1, \"means\", Dict[Data1])\n"
   ]
  },
  {
   "cell_type": "code",
   "execution_count": 9,
   "metadata": {},
   "outputs": [
    {
     "name": "stdout",
     "output_type": "stream",
     "text": [
      "22\n",
      "21\n",
      "64\n",
      "23\n",
      "233\n",
      "23\n",
      "6\n"
     ]
    }
   ],
   "source": [
    "# list1 = [ [\"Harry\", 1], [\"Larry\", 2],\n",
    "#           [\"Carry\", 6], [\"Marie\", 250]]\n",
    "# dict1 = dict(list1)\n",
    "#\n",
    "# for item in dict1:\n",
    "#     print(item)\n",
    "# for item, lollypop in dict1.items():\n",
    "#     print(item, \"and lolly is \", lollypop)\n",
    "items = [int, float, \"HaERRY\", 5,3, 3, 22, 21, 64, 23, 233, 23, 6]\n",
    "\n",
    "for item in items:\n",
    "    if str(item).isnumeric() and item>=6:\n",
    "        print(item)\n",
    "\n"
   ]
  },
  {
   "cell_type": "code",
   "execution_count": 1,
   "metadata": {},
   "outputs": [
    {
     "name": "stdout",
     "output_type": "stream",
     "text": [
      "8 9 10 11 12 13 14 15 16 17 18 19 20 21 22 23 24 25 26 27 28 29 30 31 32 33 34 35 36 37 38 39 40 41 42 43 44 45 enter no.55\n",
      "enter no.89\n",
      "enter no.1000\n",
      "congrats you gave no. greater than 100\n"
     ]
    }
   ],
   "source": [
    "i=0\n",
    "#while(True) or while(1) run forever\n",
    "while(i<44):\n",
    "    i=i+1\n",
    "    if i<7:\n",
    "        continue    \n",
    "    print(i+1,end=\" \")\n",
    "while(1):\n",
    "    x=int(input(\"enter no.\"))\n",
    "    if x<100:\n",
    "        continue\n",
    "    print(\"congrats you gave no. greater than 100\")  \n",
    "    break"
   ]
  },
  {
   "cell_type": "code",
   "execution_count": 11,
   "metadata": {},
   "outputs": [
    {
     "name": "stdout",
     "output_type": "stream",
     "text": [
      "guesses remaining 9\n",
      "enter no.-50\n",
      "right guess\n",
      "you took 1 guesses\n"
     ]
    }
   ],
   "source": [
    "# guessing game\n",
    "n=50\n",
    "i=0\n",
    "while(i<10):\n",
    "    print(\"guesses remaining\",9-i)\n",
    "    x=int(input(\"enter no.-\"))\n",
    "    i=i+1\n",
    "    if i==9:\n",
    "        print(\"game over\")\n",
    "        break\n",
    "    elif x<50:\n",
    "        print(\"increse the guess\")\n",
    "    elif x>50:\n",
    "        print(\"decrese the guess\")\n",
    "    else:\n",
    "        print(\"right guess\")\n",
    "        print(\"you took\",i,\"guesses\")\n",
    "        break"
   ]
  },
  {
   "cell_type": "code",
   "execution_count": 3,
   "metadata": {},
   "outputs": [
    {
     "name": "stdout",
     "output_type": "stream",
     "text": [
      "qwertyqwertythank youthank you\n"
     ]
    },
    {
     "data": {
      "text/plain": [
       "9"
      ]
     },
     "execution_count": 3,
     "metadata": {},
     "output_type": "execute_result"
    }
   ],
   "source": [
    "# f = open(\"harry.txt\", \"w\")\n",
    "# a = f.write(\"Harry bhai bahut achhe hain\\n\")\n",
    "# print(a)\n",
    "# f.close()\n",
    "\n",
    "# f = open(\"harry2.txt\", \"a\")\n",
    "# a = f.write(\"Harry bhai bahut achhe hain\\n\")\n",
    "# print(a)\n",
    "# f.close()\n",
    "\n",
    "\n",
    "# Handle read and write both\n",
    "f = open(\"kartik.txt\", \"r+\")\n",
    "print(f.read())\n",
    "f.write(\"thank you\")\n",
    "  \n"
   ]
  },
  {
   "cell_type": "code",
   "execution_count": 4,
   "metadata": {},
   "outputs": [
    {
     "name": "stdout",
     "output_type": "stream",
     "text": [
      "11\n",
      "s to eat somethingthank youthank you\n",
      "\n",
      "thank you\n",
      "\n"
     ]
    }
   ],
   "source": [
    "f = open(\"kartik.txt\")\n",
    "f.seek(11)\n",
    "print(f.tell())\n",
    "print(f.readline())\n",
    "# print(f.tell())\n",
    "\n",
    "print(f.readline())\n",
    "# print(f.tell())\n",
    "f.close()\n",
    "  \n"
   ]
  },
  {
   "cell_type": "code",
   "execution_count": 2,
   "metadata": {},
   "outputs": [
    {
     "name": "stdout",
     "output_type": "stream",
     "text": [
      "['qwerty']\n"
     ]
    }
   ],
   "source": [
    "with open(\"kartik.txt\") as f:\n",
    "    a = f.readlines()\n",
    "    print(a)\n",
    "\n",
    "# f = open(\"harry.txt\", \"rt\")\n",
    "#Question of the day - Yes or No and why?\n",
    "# f.close()\n",
    "  \n"
   ]
  },
  {
   "cell_type": "code",
   "execution_count": 1,
   "metadata": {},
   "outputs": [
    {
     "name": "stdout",
     "output_type": "stream",
     "text": [
      "after calling rohan() 20\n",
      "88\n"
     ]
    }
   ],
   "source": [
    "# l = 10 # Global\n",
    "# def function1(n):\n",
    "#     # l = 5 #Local\n",
    "#     m = 8 #Local\n",
    "#     global l\n",
    "#     l = l + 45\n",
    "#     print(l, m)\n",
    "#     print(n, \"I have printed\")\n",
    "# function1(\"This is me\")\n",
    "# # print(m)\n",
    "x = 89\n",
    "def harry():\n",
    "    x = 20\n",
    "    def rohan():\n",
    "        global x\n",
    "        x = 88\n",
    "    # print(\"before calling rohan()\", x)\n",
    "    rohan()\n",
    "    print(\"after calling rohan()\", x)\n",
    "harry()\n",
    "print(x)"
   ]
  },
  {
   "cell_type": "code",
   "execution_count": 1,
   "metadata": {},
   "outputs": [
    {
     "name": "stdout",
     "output_type": "stream",
     "text": [
      "Enter then number4\n",
      "2\n"
     ]
    }
   ],
   "source": [
    "def factorial_iterative(n):\n",
    "    \"\"\"\n",
    "        :param n: Integer\n",
    "        :return: n * n-1 * n-2 * n-3.......1\n",
    "    \"\"\"\n",
    "    fac = 1\n",
    "    for i in range(n):\n",
    "        fac = fac * (i+1)\n",
    "    return fac\n",
    "\n",
    "def factorial_recursive(n):\n",
    "    if n ==1:\n",
    "        return 1\n",
    "    else:\n",
    "        return n * factorial_recursive(n-1)\n",
    "def fibonacci(n):\n",
    "    if n==1:\n",
    "        return 0\n",
    "    elif n==2:\n",
    "        return 1\n",
    "    else:\n",
    "        return fibonacci(n-1)+ fibonacci(n-2)\n",
    "number = int(input(\"Enter then number\"))\n",
    "# print(\"Factorial Using Iterative Method\", factorial_iterative(number))\n",
    "# print(\"Factorial Using Recursive Method\", factorial_recursive(number))\n",
    "print(fibonacci(number))"
   ]
  },
  {
   "cell_type": "code",
   "execution_count": 1,
   "metadata": {},
   "outputs": [
    {
     "name": "stdout",
     "output_type": "stream",
     "text": [
      "please add number of line you want to print1\n",
      "please add 0 for False0\n",
      "*\n"
     ]
    }
   ],
   "source": [
    "# Exercise 4\n",
    "\n",
    "# print(\"Pattern printing\")\n",
    "# num = int(input(\"Enter num how many rows you want : \"))\n",
    "# print(\"Enter 1 or 0\")\n",
    "# bool_val = input(\"1 for True value or 0 for False : \")\n",
    "# if bool_val==\"1\":\n",
    "#     for i in range(0,num+1):\n",
    "#         print(\"*\"*i)\n",
    "#\n",
    "# if bool_val==\"0\":\n",
    "#     for i in range(num,0,-1):\n",
    "#         print(\"*\"* i)\n",
    "a = int(input(\"please add number of line you want to print\"))\n",
    "b = bool(int(input(\"please add 0 for False\")))\n",
    "def star(a, b):\n",
    "    if b == True:\n",
    "        c = 1\n",
    "        while c <= a:\n",
    "            print(c * \"*\")\n",
    "            c = c + 1\n",
    "    else:\n",
    "        while a > 0:\n",
    "            print(a * \"*\")\n",
    "            a = a - 1\n",
    "star(a, b)"
   ]
  },
  {
   "cell_type": "code",
   "execution_count": 2,
   "metadata": {},
   "outputs": [
    {
     "name": "stdout",
     "output_type": "stream",
     "text": [
      "[[5, 6], [1, 14], [8, 23]]\n"
     ]
    }
   ],
   "source": [
    "# Lambda functions or anonymous functions\n",
    "# def add(a, b):\n",
    "#     return a+b\n",
    "# # minus = lambda x, y: x-y\n",
    "# def minus(x, y):\n",
    "#     return x-y\n",
    "# print(minus(9, 4))\n",
    "a =[[1, 14], [5, 6], [8,23]]\n",
    "a.sort(key=lambda x:x[1])\n",
    "print(a)"
   ]
  },
  {
   "cell_type": "code",
   "execution_count": 6,
   "metadata": {},
   "outputs": [],
   "source": [
    "#health management best program i have made\n",
    "# def getdate():\n",
    "#     import datetime\n",
    "#     return datetime.datetime.now()\n",
    "# todo=input(\"log or retrieve-\")\n",
    "# fill=input(\"diet or exercise-\")\n",
    "# name=input(\"harry or rohan or hammad-\")\n",
    "# def log():\n",
    "#     with open(name+fill+\".txt\",\"a+\") as f:\n",
    "#         a=str(getdate())\n",
    "#         entry=input(\"enter data-\")\n",
    "#         f.write(a)\n",
    "#         f.write(\"=\")\n",
    "#         f.write(entry)\n",
    "# def retrieve():\n",
    "#     with open(name+fill+\".txt\") as f:\n",
    "#         print(f.read()) \n",
    "# log() if todo==\"log\" else retrieve()"
   ]
  },
  {
   "cell_type": "code",
   "execution_count": 1,
   "metadata": {},
   "outputs": [
    {
     "name": "stdout",
     "output_type": "stream",
     "text": [
      "CodeWithHarry\n"
     ]
    }
   ],
   "source": [
    "import random\n",
    "random_number = random.randint(0, 1)\n",
    "# print(random_number)\n",
    "rand = random.random() *100\n",
    "# print(rand)\n",
    "lst = [\"Star Plus\", \"DD1\", \"Aaj Tak\", \"CodeWithHarry\"]\n",
    "choice = random.choice(lst)\n",
    "print(choice)"
   ]
  },
  {
   "cell_type": "code",
   "execution_count": 2,
   "metadata": {},
   "outputs": [
    {
     "name": "stdout",
     "output_type": "stream",
     "text": [
      "this is Harry 3 -0.562453851238172\n"
     ]
    }
   ],
   "source": [
    "# F strings\n",
    "import math\n",
    "me = \"Harry\"\n",
    "a1 =3\n",
    "# a = \"this is %s %s\"%(me, a1)\n",
    "# a = \"This is {1} {0}\"\n",
    "# b = a.format(me, a1)\n",
    "# print(b)\n",
    "a = f\"this is {me} {a1} {math.cos(65)}\"\n",
    "# time\n",
    "print(a)"
   ]
  },
  {
   "cell_type": "code",
   "execution_count": 1,
   "metadata": {},
   "outputs": [
    {
     "name": "stdout",
     "output_type": "stream",
     "text": [
      "I am a normal Argument and the students are:\n",
      "Harry\n",
      "Rohan\n",
      "Skillf\n",
      "Hammad\n",
      "Shivam\n",
      "The programmer\n",
      "\n",
      "Now I would Like to introduce some of our heroes\n",
      "Rohan is a Monitor\n",
      "Harry is a Fitness Instructor\n",
      "The Programmer is a Coordinator\n",
      "Shivam is a Cook\n"
     ]
    }
   ],
   "source": [
    "# def function_name_print(a, b, c, d, e):\n",
    "#     print(a, b, c, d, e)\n",
    "\n",
    "def funargs(normal, *argsrohan, **kwargsbala):\n",
    "    print(normal)\n",
    "    for item in argsrohan:\n",
    "        print(item)\n",
    "    print(\"\\nNow I would Like to introduce some of our heroes\")\n",
    "    for key, value in kwargsbala.items():\n",
    "        print(f\"{key} is a {value}\")\n",
    "\n",
    "\n",
    "# function_name_print(\"Harry\", \"Rohan\", \"Skillf\", \"Hammad\", \"Shivam\")\n",
    "\n",
    "har = [\"Harry\", \"Rohan\", \"Skillf\", \"Hammad\",\n",
    "       \"Shivam\", \"The programmer\"]\n",
    "normal = \"I am a normal Argument and the students are:\"\n",
    "kw = {\"Rohan\":\"Monitor\", \"Harry\":\"Fitness Instructor\",\n",
    "      \"The Programmer\": \"Coordinator\", \"Shivam\":\"Cook\"}\n",
    "funargs(normal, *har, **kw)"
   ]
  },
  {
   "cell_type": "code",
   "execution_count": 1,
   "metadata": {},
   "outputs": [],
   "source": [
    "# import time\n",
    "# initial = time.time()\n",
    "# k = 0\n",
    "# while(k<45):\n",
    "#     print(\"This is harry bhai\")\n",
    "#     time.sleep(2)\n",
    "#     k+=1\n",
    "# print(\"While loop ran in\", time.time() - initial, \"Seconds\")\n",
    "# initial2 =time.time()\n",
    "# for i in range(45):\n",
    "#     print(\"This is harry bhai\")\n",
    "# print(\"For loop ran in\", time.time() - initial2, \"Seconds\")\n",
    "# # localtime = time.asctime(time.localtime(time.time()))\n",
    "# # print(localtime)"
   ]
  },
  {
   "cell_type": "code",
   "execution_count": 2,
   "metadata": {},
   "outputs": [
    {
     "name": "stdout",
     "output_type": "stream",
     "text": [
      "Jarvis please buy Bhindi\n",
      "Jarvis please buy chopsticks\n",
      "0 code\n",
      "1 with\n",
      "2 harry\n"
     ]
    }
   ],
   "source": [
    "l1 = [\"Bhindi\", \"Aloo\", \"chopsticks\", \"chowmein\"]\n",
    "# i = 1\n",
    "# for item in l1:\n",
    "#     if i%2 is not 0:\n",
    "#         print(f\"Jarvis please buy {item}\")\n",
    "#     i += 1\n",
    "for index, item in enumerate(l1):\n",
    "    if index%2==0:\n",
    "        print(f\"Jarvis please buy {item}\")\n",
    "        list_1=[\"code\",\"with\",\"harry\"]\n",
    "for index,val in enumerate(list_1):\n",
    "    print(index,val)"
   ]
  },
  {
   "cell_type": "code",
   "execution_count": 3,
   "metadata": {},
   "outputs": [],
   "source": [
    "# from sklearn.ensemble import RandomForestClassifier\n",
    "# print(RandomForestClassifier())\n",
    "# import file2\n",
    "# print(file2.a)\n",
    "# file2.printjoke(\"This is me\")"
   ]
  },
  {
   "cell_type": "code",
   "execution_count": 4,
   "metadata": {},
   "outputs": [],
   "source": [
    "# def printhar(string):\n",
    "#     return f\"Ye string harry ko de de thakur {string}\"\n",
    "# def add(num1, num2):\n",
    "#     return num1 + num2 + 5\n",
    "# print(\"aand the name is\", __name__)\n",
    "# if __name__ == '__main__':\n",
    "#     print(printhar(\"Harry1\"))\n",
    "#     o = add(4, 6)\n",
    "#     print(o)"
   ]
  },
  {
   "cell_type": "code",
   "execution_count": 5,
   "metadata": {},
   "outputs": [],
   "source": [
    "# lis = [\"John\", \"cena\", \"Randy\", \"orton\",\n",
    "#        \"Sheamus\", \"khali\", \"jinder mahal\"]\n",
    "# # for item in lis:\n",
    "# #     print(item, \"and\", end=\" \")\n",
    "# a = \", \".join(lis)\n",
    "# print(a, \"other wwe superstars\")"
   ]
  },
  {
   "cell_type": "code",
   "execution_count": 6,
   "metadata": {},
   "outputs": [],
   "source": [
    "#--------------------------MAP------------------------------\n",
    "# numbers = [\"3\", \"34\", \"64\"]\n",
    "# numbers = list(map(int, numbers))\n",
    "# for i in range(len(numbers)):\n",
    "#     numbers[i] = int(numbers[i])\n",
    "# numbers[2] = numbers[2] + 1\n",
    "# print(numbers[2])\n",
    "# def sq(a):\n",
    "#     return a*a\n",
    "# num = [2,3,5,6,76,3,3,2]\n",
    "# square = list(map(sq, num))\n",
    "# print(square)\n",
    "# num = [2,3,5,6,76,3,3,2]\n",
    "# square = list(map(lambda x: x*x, num))\n",
    "# print(square)\n",
    "# def square(a):\n",
    "#     return a*a\n",
    "# def cube(a):\n",
    "#     return a*a*a\n",
    "# func = [square, cube]\n",
    "# num = [2,3,5,6,76,3,3,2]\n",
    "# for i in range(5):\n",
    "#     val = list(map(lambda x:x(i), func))\n",
    "#     print(val)\n",
    "#--------------------------FILTER------------------------------\n",
    "# list_1 = [1,2,3,4,5,6,7,8,9]\n",
    "# def is_greater_5(num):\n",
    "#     return num>5\n",
    "# gr_than_5 = list(filter(is_greater_5, list_1))\n",
    "# print(gr_than_5)\n",
    "#--------------------------REDUCE------------------------------\n",
    "# from functools import reduce\n",
    "# list1 = [1,2,3,4,2]\n",
    "# num = reduce(lambda x,y:x*y, list1)\n",
    "# # num = 0\n",
    "# # for i in list1:\n",
    "# #     num = num + i\n",
    "# print(num)"
   ]
  },
  {
   "cell_type": "code",
   "execution_count": 7,
   "metadata": {},
   "outputs": [],
   "source": [
    "# # Snake water gun\n",
    "# import random\n",
    "# lst = ['s','w','g']\n",
    "# chance = 10\n",
    "# no_of_chance = 0\n",
    "# computer_point = 0\n",
    "# human_point = 0\n",
    "# print(\" \\t \\t \\t \\t Snake,Water,Gun Game\\n \\n\")\n",
    "# print(\"s for snake \\nw for water \\ng for gun \\n\")\n",
    "# # making the game in while\n",
    "# while no_of_chance < chance:\n",
    "#     _input = input('Snake,Water,Gun:')\n",
    "#     _random = random.choice(lst)\n",
    "#     if _input == _random:\n",
    "#         print(\"Tie Both 0 point to each \\n \")\n",
    "#     # if user enter s\n",
    "#     elif _input == \"s\" and _random == \"g\":\n",
    "#         computer_point = computer_point + 1\n",
    "#         print(f\"your guess {_input} and computer guess is {_random} \\n\")\n",
    "#         print(\"computer wins 1 point \\n\")\n",
    "#         print(f\"computer_point is {computer_point} and your point is {human_point} \\n \")\n",
    "#     elif _input == \"s\" and _random == \"w\":\n",
    "#         human_point = human_point + 1\n",
    "#         print(f\"your guess {_input} and computer guess is {_random} \\n\")\n",
    "#         print(\"Human wins 1 point \\n\")\n",
    "#         print(f\"computer_point is {computer_point} and your point is {human_point} \\n\")\n",
    "#     # if user enter w\n",
    "#     elif _input == \"w\" and _random == \"s\":\n",
    "#         computer_point = computer_point + 1\n",
    "#         print(f\"your guess {_input} and computer guess is {_random} \\n\")\n",
    "#         print(\"computer wins 1 point \\n\")\n",
    "#         print(f\"computer_point is {computer_point} and your point is {human_point} \\n \")\n",
    "#     elif _input == \"w\" and _random == \"g\":\n",
    "#         human_point = human_point + 1\n",
    "#         print(f\"your guess {_input} and computer guess is {_random} \\n\")\n",
    "#         print(\"Human wins 1 point \\n\")\n",
    "#         print(f\"computer_point is {computer_point} and your point is {human_point} \\n\")\n",
    "#     # if user enter g\n",
    "#     elif _input == \"g\" and _random == \"s\":\n",
    "#         human_point = human_point + 1\n",
    "#         print(f\"your guess {_input} and computer guess is {_random} \\n\")\n",
    "#         print(\"Human wins 1 point \\n\")\n",
    "#         print(f\"computer_point is {computer_point} and your point is {human_point} \\n\")\n",
    "#     elif _input == \"g\" and _random == \"w\":\n",
    "#         computer_point = computer_point + 1\n",
    "#         print(f\"your guess {_input} and computer guess is {_random} \\n\")\n",
    "#         print(\"computer wins 1 point \\n\")\n",
    "#         print(f\"computer_point is {computer_point} and your point is {human_point} \\n \")\n",
    "#     else:\n",
    "#         print(\"you have input wrong \\n\")\n",
    "#     no_of_chance = no_of_chance + 1\n",
    "#     print(f\"{chance - no_of_chance} is left out of {chance} \\n\")\n",
    "# print(\"Game over\")\n",
    "# if computer_point==human_point:\n",
    "#     print(\"Tie\")\n",
    "# elif computer_point > human_point:\n",
    "#     print(\"Computer wins and you loose\")\n",
    "# else:\n",
    "#     print(\"you win and computer loose\")\n",
    "# print(f\"your point is {human_point} and computer point is {computer_point}\")\n",
    "# Snake Water Gun Game in Python\n",
    "# The snake drinks the water, the gun shoots the snake, and gun has no effect on water."
   ]
  },
  {
   "cell_type": "code",
   "execution_count": 8,
   "metadata": {},
   "outputs": [],
   "source": [
    "# def function1():\n",
    "#     print(\"Subscribe now\")\n",
    "# func2 = function1\n",
    "# del function1\n",
    "# func2()\n",
    "# def funcret(num):\n",
    "#     if num==0:\n",
    "#         return print\n",
    "#     if num==1:\n",
    "#         return sum\n",
    "# a = funcret(1)\n",
    "# print(a)\n",
    "# def executor(func):\n",
    "#     func(\"this\")\n",
    "# executor(print)\n",
    "# def dec1(func1):\n",
    "#     def nowexec():\n",
    "#         print(\"Executing now\")\n",
    "#         func1()\n",
    "#         print(\"Executed\")\n",
    "#     return nowexec\n",
    "# @dec1\n",
    "# def who_is_harry():\n",
    "#     print(\"Harry is a good boy\")\n",
    "# # who_is_harry = dec1(who_is_harry)\n",
    "# who_is_harry()"
   ]
  },
  {
   "cell_type": "code",
   "execution_count": 9,
   "metadata": {},
   "outputs": [],
   "source": [
    "# class Student:\n",
    "#     pass\n",
    "# harry = Student()\n",
    "# larry = Student()\n",
    "# harry.name = \"Harry\"\n",
    "# harry.std = 12\n",
    "# harry.section = 1\n",
    "# larry.std = 9\n",
    "# larry.subjects = [\"hindi\", \"physics\"]\n",
    "# print(harry.section, larry.subjects"
   ]
  },
  {
   "cell_type": "code",
   "execution_count": 10,
   "metadata": {},
   "outputs": [],
   "source": [
    "# class Employee:\n",
    "#     no_of_leaves = 8\n",
    "#     pass\n",
    "# harry = Employee()\n",
    "# rohan = Employee()\n",
    "# harry.name = \"Harry\"\n",
    "# harry.salary = 455\n",
    "# harry.role = \"Instructor\"\n",
    "# rohan.name = \"Rohan\"\n",
    "# rohan.salary = 4554\n",
    "# rohan.role = \"Student\"\n",
    "# print(Employee.no_of_leaves)\n",
    "# print(Employee.__dict__)\n",
    "# Employee.no_of_leaves = 9\n",
    "# print(Employee.__dict__)\n",
    "# print(Employee.no_of_leaves)"
   ]
  },
  {
   "cell_type": "code",
   "execution_count": 11,
   "metadata": {},
   "outputs": [],
   "source": [
    "# class Employee:\n",
    "#     no_of_leaves = 8\n",
    "#     def __init__(self, aname, asalary, arole):\n",
    "#         self.name = aname\n",
    "#         self.salary = asalary\n",
    "#         self.role = arole\n",
    "#     def printdetails(self):\n",
    "#         return f\"The Name is {self.name}. Salary is {self.salary} and role is {self.role}\"\n",
    "# harry = Employee(\"Harry\", 255, \"Instructor\")\n",
    "# rohan = Employee()\n",
    "# harry.name = \"Harry\"\n",
    "# harry.salary = 455\n",
    "# harry.role = \"Instructor\"\n",
    "# rohan.name = \"Rohan\"\n",
    "# rohan.salary = 4554\n",
    "# rohan.role = \"Student\"\n",
    "# print(harry.salary)"
   ]
  },
  {
   "cell_type": "code",
   "execution_count": 12,
   "metadata": {},
   "outputs": [],
   "source": [
    "# class Employee:\n",
    "#     no_of_leaves = 8\n",
    "#     def __init__(self, aname, asalary, arole):\n",
    "#         self.name = aname\n",
    "#         self.salary = asalary\n",
    "#         self.role = arole\n",
    "#     def printdetails(self):\n",
    "#         return f\"The Name is {self.name}. Salary is {self.salary} and role is {self.role}\"\n",
    "#     @classmethod\n",
    "#     def change_leaves(cls, newleaves):\n",
    "#         cls.no_of_leaves = newleaves\n",
    "#     @classmethod\n",
    "#     def from_dash(cls, string):\n",
    "#         # params = string.split(\"-\")\n",
    "#         # print(params)\n",
    "#         # return cls(params[0], params[1], params[2])\n",
    "#         return cls(*string.split(\"-\"))\n",
    "# harry = Employee(\"Harry\", 255, \"Instructor\")\n",
    "# rohan = Employee(\"Rohan\", 455, \"Student\")\n",
    "# karan = Employee.from_dash(\"Karan-480-Student\")\n",
    "# print(karan.no_of_leaves)\n",
    "# rohan.change_leaves(34)\n",
    "# print(harry.no_of_leaves)"
   ]
  },
  {
   "cell_type": "code",
   "execution_count": 13,
   "metadata": {},
   "outputs": [],
   "source": [
    "# class Employee:\n",
    "#     no_of_leaves = 8\n",
    "#     def __init__(self, aname, asalary, arole):\n",
    "#         self.name = aname\n",
    "#         self.salary = asalary\n",
    "#         self.role = arole\n",
    "#     def printdetails(self):\n",
    "#         return f\"The Name is {self.name}. Salary is {self.salary} and role is {self.role}\"\n",
    "#     @classmethod\n",
    "#     def change_leaves(cls, newleaves):\n",
    "#         cls.no_of_leaves = newleaves\n",
    "#     @classmethod\n",
    "#     def from_dash(cls, string):\n",
    "#         return cls(*string.split(\"-\"))\n",
    "#     @staticmethod\n",
    "#     def printgood(string):\n",
    "#         print(\"This is good \" + string)\n",
    "# harry = Employee(\"Harry\", 255, \"Instructor\")\n",
    "# rohan = Employee(\"Rohan\", 455, \"Student\")\n",
    "# karan = Employee.from_dash(\"Karan-480-Student\")\n",
    "# Employee.printgood(\"Rohan\")"
   ]
  },
  {
   "cell_type": "code",
   "execution_count": 14,
   "metadata": {},
   "outputs": [],
   "source": [
    "# class Employee:\n",
    "#     no_of_leaves = 8\n",
    "#     def __init__(self, aname, asalary, arole):\n",
    "#         self.name = aname\n",
    "#         self.salary = asalary\n",
    "#         self.role = arole\n",
    "#     def printdetails(self):\n",
    "#         return f\"The Name is {self.name}. Salary is {self.salary} and role is {self.role}\"\n",
    "#     @classmethod\n",
    "#     def change_leaves(cls, newleaves):\n",
    "#         cls.no_of_leaves = newleaves\n",
    "#     @classmethod\n",
    "#     def from_dash(cls, string):\n",
    "#         return cls(*string.split(\"-\"))\n",
    "#     @staticmethod\n",
    "#     def printgood(string):\n",
    "#         print(\"This is good \" + string)\n",
    "# harry = Employee(\"Harry\", 255, \"Instructor\")\n",
    "# rohan = Employee(\"Rohan\", 455, \"Student\")\n",
    "# karan = Employee.from_dash(\"Karan-480-Student\")\n",
    "# Employee.printgood(\"Rohan\")"
   ]
  },
  {
   "cell_type": "code",
   "execution_count": 15,
   "metadata": {},
   "outputs": [],
   "source": [
    "# class Employee:\n",
    "#     no_of_leaves = 8\n",
    "#     def __init__(self, aname, asalary, arole):\n",
    "#         self.name = aname\n",
    "#         self.salary = asalary\n",
    "#         self.role = arole\n",
    "#     def printdetails(self):\n",
    "#         return f\"The Name is {self.name}. Salary is {self.salary} and role is {self.role}\"\n",
    "#     @classmethod\n",
    "#     def change_leaves(cls, newleaves):\n",
    "#         cls.no_of_leaves = newleaves\n",
    "#     @classmethod\n",
    "#     def from_dash(cls, string):\n",
    "#         return cls(*string.split(\"-\"))\n",
    "#     @staticmethod\n",
    "#     def printgood(string):\n",
    "#         print(\"This is good \" + string)\n",
    "# class Programmer(Employee):\n",
    "#     no_of_holiday = 56\n",
    "#     def __init__(self, aname, asalary, arole, languages):\n",
    "#         self.name = aname\n",
    "#         self.salary = asalary\n",
    "#         self.role = arole\n",
    "#         self.languages = languages\n",
    "#     def printprog(self):\n",
    "#         return f\"The Programmer's Name is {self.name}. Salary is {self.salary} and role is {self.role}.The languages are {self.languages}\"\n",
    "# harry = Employee(\"Harry\", 255, \"Instructor\")\n",
    "# rohan = Employee(\"Rohan\", 455, \"Student\")\n",
    "# shubham = Programmer(\"Shubham\", 555, \"Programmer\", [\"python\"])\n",
    "# karan = Programmer(\"Karan\", 777, \"Programmer\", [\"python\", \"Cpp\"])\n",
    "# print(karan.no_of_holiday)"
   ]
  },
  {
   "cell_type": "code",
   "execution_count": null,
   "metadata": {},
   "outputs": [],
   "source": []
  }
 ],
 "metadata": {
  "kernelspec": {
   "display_name": "Python 3",
   "language": "python",
   "name": "python3"
  },
  "language_info": {
   "codemirror_mode": {
    "name": "ipython",
    "version": 3
   },
   "file_extension": ".py",
   "mimetype": "text/x-python",
   "name": "python",
   "nbconvert_exporter": "python",
   "pygments_lexer": "ipython3",
   "version": "3.8.3"
  }
 },
 "nbformat": 4,
 "nbformat_minor": 4
}
