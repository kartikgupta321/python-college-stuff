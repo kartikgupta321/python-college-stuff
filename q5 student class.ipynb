{
 "cells": [
  {
   "cell_type": "code",
   "execution_count": 7,
   "metadata": {},
   "outputs": [
    {
     "name": "stdout",
     "output_type": "stream",
     "text": [
      "name is sipra, rollno is 20 and marks are 60\n",
      "average marks are= 66.66666666666667\n"
     ]
    }
   ],
   "source": [
    "class Student():\n",
    "    def __init__(self,name,rollno,marks):\n",
    "        self.name=name\n",
    "        self.rollno=rollno\n",
    "        self.marks=marks\n",
    "    def display(self):\n",
    "        print(f\"name is {self.name}, rollno is {self.rollno} and marks are {self.marks}\")\n",
    "def average(*s):\n",
    "    sum=0\n",
    "    for i in range(0,len(s)):\n",
    "        sum+=s[i]\n",
    "    print('average marks are=',sum/len(s))\n",
    "s1=Student('kartik',12,90)\n",
    "s2=Student('harry',34,80)\n",
    "s3=Student('dikshit',4,70)\n",
    "s4=Student('sipra',20,60)\n",
    "s5=Student('kritika',25,50)\n",
    "s4.display()\n",
    "average(s1.marks,s2.marks,s3.marks,s4.marks,s5.marks)"
   ]
  }
 ],
 "metadata": {
  "kernelspec": {
   "display_name": "Python 3",
   "language": "python",
   "name": "python3"
  },
  "language_info": {
   "codemirror_mode": {
    "name": "ipython",
    "version": 3
   },
   "file_extension": ".py",
   "mimetype": "text/x-python",
   "name": "python",
   "nbconvert_exporter": "python",
   "pygments_lexer": "ipython3",
   "version": "3.8.3"
  }
 },
 "nbformat": 4,
 "nbformat_minor": 4
}
