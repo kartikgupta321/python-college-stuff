{
 "cells": [
  {
   "cell_type": "code",
   "execution_count": 29,
   "metadata": {},
   "outputs": [
    {
     "name": "stdout",
     "output_type": "stream",
     "text": [
      "{'kartik': 140, 'dikshit': 156, 'sipra': 232, 'neha': 277}\n",
      "topper is neha and highest marks are 277  \n"
     ]
    }
   ],
   "source": [
    "# KARTIK GUPTA- BT20HCS230\n",
    "dict1={'kartik':[20,30,40,50],'dikshit':[30,40,10,76],'sipra':[23,44,69,96],'neha':[45,67,89,76]}\n",
    "dict2={}\n",
    "\n",
    "for keys in dict1:\n",
    "    value=dict1[keys][0]+dict1[keys][1]+dict1[keys][2]+dict1[keys][3]\n",
    "    dict2.update({keys:value})\n",
    "print(dict2)\n",
    "keymax = max(dict2, key=dict2.get) \n",
    "\n",
    "\n",
    "print(f'topper is {keymax} and highest marks are {dict2.get(keymax)}  ')"
   ]
  },
  {
   "cell_type": "code",
   "execution_count": null,
   "metadata": {},
   "outputs": [],
   "source": []
  }
 ],
 "metadata": {
  "kernelspec": {
   "display_name": "Python 3",
   "language": "python",
   "name": "python3"
  },
  "language_info": {
   "codemirror_mode": {
    "name": "ipython",
    "version": 3
   },
   "file_extension": ".py",
   "mimetype": "text/x-python",
   "name": "python",
   "nbconvert_exporter": "python",
   "pygments_lexer": "ipython3",
   "version": "3.8.3"
  }
 },
 "nbformat": 4,
 "nbformat_minor": 4
}
