{
 "cells": [
  {
   "cell_type": "code",
   "execution_count": 41,
   "metadata": {},
   "outputs": [
    {
     "name": "stdout",
     "output_type": "stream",
     "text": [
      "enter size of tridiagonal matrix- 3\n",
      "enter 0,0th element- 1\n",
      "enter 1,1th element- 2\n",
      "enter 2,2th element- 3\n",
      "enter 1,0th element- 4\n",
      "enter 2,1th element- 5\n",
      "enter 0,1th element- 6\n",
      "enter 1,2th element- 7\n",
      "\n",
      "\n",
      "[1, 6, 0]\n",
      "[4, 2, 7]\n",
      "[0, 5, 3]\n"
     ]
    }
   ],
   "source": [
    "n=int(input('enter size of tridiagonal matrix- '))\n",
    "if(n<3):\n",
    "    print('enter size gretaer then or equal to 3')\n",
    "else:\n",
    "    tri=[]*n\n",
    "    for i in range(n):\n",
    "        a=[]*n\n",
    "        for j in range(n):\n",
    "            a.append(0)\n",
    "        tri.append(a)\n",
    "    for i in range(n):\n",
    "        for j in range(n):\n",
    "            if (i==j):\n",
    "                tri[i][j]=int(input(f'enter {i},{j}th element- '))\n",
    "    for i in range(n):\n",
    "        for j in range(n):\n",
    "            if (i==(j+1)):\n",
    "                tri[i][j]=int(input(f'enter {i},{j}th element- '))\n",
    "    for i in range(n):\n",
    "        for j in range(n):\n",
    "            if (i==(j-1)):\n",
    "                tri[i][j]=int(input(f'enter {i},{j}th element- '))\n",
    "    print('\\n')\n",
    "    for i in range(n):\n",
    "        print(tri[i])"
   ]
  },
  {
   "cell_type": "markdown",
   "metadata": {},
   "source": []
  }
 ],
 "metadata": {
  "kernelspec": {
   "display_name": "Python 3",
   "language": "python",
   "name": "python3"
  },
  "language_info": {
   "codemirror_mode": {
    "name": "ipython",
    "version": 3
   },
   "file_extension": ".py",
   "mimetype": "text/x-python",
   "name": "python",
   "nbconvert_exporter": "python",
   "pygments_lexer": "ipython3",
   "version": "3.8.3"
  }
 },
 "nbformat": 4,
 "nbformat_minor": 4
}
