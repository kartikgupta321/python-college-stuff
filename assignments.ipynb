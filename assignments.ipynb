{
 "cells": [
  {
   "cell_type": "code",
   "execution_count": 1,
   "metadata": {},
   "outputs": [],
   "source": [
    "# #Assignment 2 part1\n",
    "# # game of chance\n",
    "# import random\n",
    "# a=int(input(\"how many times you want to play-\"))\n",
    "# def Q1():\n",
    "#     point=0 \n",
    "#     rollno=1\n",
    "#     while rollno>0:\n",
    "#         die1=random.randrange(1,7)\n",
    "#         die2=random.randrange(1,7)\n",
    "#         sum=die1+die2\n",
    "#         print(\"roll\",rollno, \"  sum is\",sum)        \n",
    "#         if rollno==1 and (sum==7 or sum==11):\n",
    "#             print(f\"you win after 1 roll with sum {sum}\")\n",
    "#             break\n",
    "#         elif rollno==1 and (sum==2 or sum==3 or sum==12):\n",
    "#             print(f\"you lose after 1 roll with sum {sum}\")\n",
    "#             break\n",
    "#         elif point==0:\n",
    "#             point=sum\n",
    "#             print(f\"point={sum}\")\n",
    "#         elif sum==point:\n",
    "#             print(f\"you win after {rollno} roll with sum {sum}\")\n",
    "#             break\n",
    "#         elif rollno>1 and sum==7:\n",
    "#             print(f\"you lose after {rollno} roll with sum {sum}\")\n",
    "#             break\n",
    "#         rollno=rollno+1\n",
    "# for i in range(0,a):\n",
    "#     x=Q1()"
   ]
  },
  {
   "cell_type": "code",
   "execution_count": 2,
   "metadata": {
    "scrolled": true
   },
   "outputs": [],
   "source": [
    "# #Assignment 2 part 2a\n",
    "# #list\n",
    "# list=[\"kartik\",\"hello\",\"goodbye\"]\n",
    "# list.append(\"at last it is added\")       #to add elements at last\n",
    "# print(list)\n",
    "# list.insert(3,\"qwerty\")                  #to add elements on specific location\n",
    "# print(list)\n",
    "# list.reverse()                   #to reverse the list\n",
    "# print(list)\n",
    "# list.pop(2)                               #to remove elements from any location \n",
    "# print(list,\"\\n\")\n",
    "# #dictionary\n",
    "# dict={1:\"harry\",2:\"carry\",3:\"larry\",4:\"garry\"}\n",
    "# dict[5]='marry'                                   #to add elements\n",
    "# print(dict)\n",
    "# del dict[1]                                       #to delete elements based on key\n",
    "# print(dict)\n",
    "# dict.pop(5,None)    #remove element, return its value,if element not exist return default value\n",
    "# print(dict)\n",
    "# dict.clear()                                     #to clear entire dictionary\n",
    "# print(dict,\"\\n\")\n",
    "# #set\n",
    "# set1={1,2,3,4,4,3,0,'kartik'}\n",
    "# set2={'soon',9,4,4,0}\n",
    "# set1.add(\"added\")                                #to add elements \n",
    "# print(set1)\n",
    "# set1=set1.union(set2)                            #to get union of two sets\n",
    "# print(set1)\n",
    "# set1=set1.symmetric_difference(set2)            #to get symmetric difference\n",
    "# print(set1)\n",
    "# set1.clear()                                    #to clear entire set\n",
    "# print(set1)"
   ]
  },
  {
   "cell_type": "code",
   "execution_count": 3,
   "metadata": {
    "scrolled": false
   },
   "outputs": [],
   "source": [
    "# #assignment 2 part 2b\n",
    "# with open(\"kartik.txt\",\"r+\") as f:\n",
    "#     b=f.read()\n",
    "#     for line in b:\n",
    "#         for character in line:\n",
    "#             print(character)\n",
    "#     no_char=len(b)\n",
    "#     print(b)\n",
    "#     print(f\"no. of characters are-{no_char}\")\n",
    "#     f.seek(0)\n",
    "#     line_no=0\n",
    "#     content=f.read()\n",
    "#     colist=content.split(\"\\n\")\n",
    "#     for i in colist:\n",
    "#         if i:\n",
    "#             line_no+=1\n",
    "#     print(f\"no. of lines-{line_no}\")\n",
    "#     vowels=0\n",
    "#     f.seek(0)\n",
    "#     str=f.read()\n",
    "#     for i in range(0,no_char):\n",
    "#         ch=str[i]\n",
    "#         ch=ch.lower()\n",
    "#         if (ch == 'a' or ch == 'e' or ch == 'i'or ch == 'o' or ch == 'u'): \n",
    "#                 vowels += 1\n",
    "#     print(f\"vowels are {vowels}\")\n",
    "#     f.seek(0)\n",
    "#     str=input(\"enter string to search-\")\n",
    "#     line_is=0\n",
    "#     var=0\n",
    "#     for line in f:\n",
    "#         line_is+=1\n",
    "#         if str in line:\n",
    "#             print(f\"found in line {line_is}\")\n",
    "#             var+=1\n",
    "#             continue\n",
    "#         elif f==0:\n",
    "#             print(\"not found\")\n",
    "#     linetoshow=int(input(\"enter line no. to print-\"))\n",
    "#     f.seek(0)\n",
    "#     a=f.readlines()\n",
    "#     if linetoshow<=line_no:\n",
    "#             print(a[linetoshow-1])\n",
    "#     else:\n",
    "#         print(\"exceeded lines\")\n",
    "#     f.seek(0)\n",
    "#     f.write(b.lower())\n",
    "#     f.seek(0)\n",
    "#     q=f.read()\n",
    "#     print(\"converted to lowercase\\n\",q)"
   ]
  },
  {
   "cell_type": "code",
   "execution_count": 17,
   "metadata": {},
   "outputs": [
    {
     "name": "stdout",
     "output_type": "stream",
     "text": [
      "[12, 4, 3]\n",
      "[7, 5, 8]\n"
     ]
    }
   ],
   "source": [
    "#assignment 1\n",
    "X = [[12,7], [4 ,5], [3 ,8]]\n",
    "result = [[0,0,0], [0,0,0]]\n",
    "for i in range(len(X)):\n",
    " # iterate through columns\n",
    " for j in range(len(X[0])):\n",
    "    result[j][i] = X[i][j]\n",
    "for r in result:\n",
    "    print(r)"
   ]
  },
  {
   "cell_type": "code",
   "execution_count": 16,
   "metadata": {},
   "outputs": [
    {
     "name": "stdout",
     "output_type": "stream",
     "text": [
      "{'Welcome': 1, 'to': 1, 'the': 1, 'world': 1, 'of': 1, 'Python': 1, 'programming': 1}\n"
     ]
    }
   ],
   "source": [
    "def word_count(str):\n",
    "    counts = dict()\n",
    "    words = str.split()\n",
    "    for word in words:\n",
    "        if word in counts:\n",
    "            counts[word] += 1\n",
    "        else:\n",
    "            counts[word] = 1\n",
    "    return counts\n",
    "print (word_count('Welcome to the world of Python programming'))\n"
   ]
  },
  {
   "cell_type": "code",
   "execution_count": 19,
   "metadata": {},
   "outputs": [
    {
     "name": "stdout",
     "output_type": "stream",
     "text": [
      "Enter any year : 7\n",
      "Not a Leap Year\n"
     ]
    }
   ],
   "source": [
    "def check(year):\n",
    "    if((year%4==0 and year%100!=0) or (year%400 == 0)):\n",
    "        print(\"Leap Year\")\n",
    "    else:\n",
    "        print(\"Not a Leap Year\")\n",
    "year = int(input(\"Enter any year : \"))\n",
    "check(year)\n"
   ]
  },
  {
   "cell_type": "code",
   "execution_count": null,
   "metadata": {},
   "outputs": [],
   "source": []
  }
 ],
 "metadata": {
  "kernelspec": {
   "display_name": "Python 3",
   "language": "python",
   "name": "python3"
  },
  "language_info": {
   "codemirror_mode": {
    "name": "ipython",
    "version": 3
   },
   "file_extension": ".py",
   "mimetype": "text/x-python",
   "name": "python",
   "nbconvert_exporter": "python",
   "pygments_lexer": "ipython3",
   "version": "3.8.3"
  }
 },
 "nbformat": 4,
 "nbformat_minor": 4
}
