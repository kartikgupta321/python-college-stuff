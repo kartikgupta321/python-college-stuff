{
 "cells": [
  {
   "cell_type": "code",
   "execution_count": 20,
   "metadata": {},
   "outputs": [
    {
     "name": "stdout",
     "output_type": "stream",
     "text": [
      "Enter max size of static array- 4\n",
      "enter 0th element of sorted array for binary search- 4\n",
      "enter 1th element of sorted array for binary search- 3\n",
      "enter 2th element of sorted array for binary search- 2\n",
      "enter 3th element of sorted array for binary search- 1\n",
      "enter no. to search- 1\n",
      "not found\n"
     ]
    }
   ],
   "source": [
    "size=int(input(\"Enter max size of static array- \"))\n",
    "arr=[None]*size \n",
    "for i in range(0,size):\n",
    "    arr[i]=int(input(f'enter {i}th element of sorted array for binary search- '))\n",
    "val=int(input('enter no. to search- '))\n",
    "beg=0\n",
    "end=size-1\n",
    "pos=-1\n",
    "while beg<=end:\n",
    "    mid=int((end+beg)/2)\n",
    "    if (arr[mid]==val):\n",
    "        print(f'element found at {mid} position')\n",
    "        pos=mid\n",
    "        break\n",
    "    elif (val<arr[mid]):\n",
    "        end=mid-1\n",
    "    elif (val>arr[mid]):\n",
    "        beg=mid+1\n",
    "if (pos==-1):\n",
    "    print('not found')"
   ]
  },
  {
   "cell_type": "code",
   "execution_count": null,
   "metadata": {},
   "outputs": [],
   "source": []
  }
 ],
 "metadata": {
  "kernelspec": {
   "display_name": "Python 3",
   "language": "python",
   "name": "python3"
  },
  "language_info": {
   "codemirror_mode": {
    "name": "ipython",
    "version": 3
   },
   "file_extension": ".py",
   "mimetype": "text/x-python",
   "name": "python",
   "nbconvert_exporter": "python",
   "pygments_lexer": "ipython3",
   "version": "3.8.3"
  }
 },
 "nbformat": 4,
 "nbformat_minor": 4
}
