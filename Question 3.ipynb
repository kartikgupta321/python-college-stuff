{
 "cells": [
  {
   "cell_type": "code",
   "execution_count": 7,
   "metadata": {},
   "outputs": [
    {
     "name": "stdout",
     "output_type": "stream",
     "text": [
      "The original list : [{'A': 2}, {'B': 3}, {'C': 2}, {'D': 5}, {'E': 4}, {'F': 3}, {'G': 2}]\n",
      "The unique values in list are : [2, 3, 4, 5]\n"
     ]
    }
   ],
   "source": [
    "# KARTIK GUPTA- BT20HCS230\n",
    "test_list = [{'A':2},{'B':3},{'C' : 2}, {'D' : 5}, {'E' : 4}, {'F' : 3}, {'G' : 2}] \n",
    "  \n",
    "print(\"The original list : \" +  str(test_list)) \n",
    "  \n",
    "res = list(set(val for dic in test_list for val in dic.values())) \n",
    "      \n",
    "print(f\"The unique values in list are : {res}\")"
   ]
  },
  {
   "cell_type": "code",
   "execution_count": null,
   "metadata": {},
   "outputs": [],
   "source": []
  }
 ],
 "metadata": {
  "kernelspec": {
   "display_name": "Python 3",
   "language": "python",
   "name": "python3"
  },
  "language_info": {
   "codemirror_mode": {
    "name": "ipython",
    "version": 3
   },
   "file_extension": ".py",
   "mimetype": "text/x-python",
   "name": "python",
   "nbconvert_exporter": "python",
   "pygments_lexer": "ipython3",
   "version": "3.8.3"
  }
 },
 "nbformat": 4,
 "nbformat_minor": 4
}
