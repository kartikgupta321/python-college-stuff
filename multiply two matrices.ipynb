{
 "cells": [
  {
   "cell_type": "code",
   "execution_count": 70,
   "metadata": {},
   "outputs": [
    {
     "name": "stdout",
     "output_type": "stream",
     "text": [
      "enter no. of rows of 1st array- 2\n",
      "enter no. of columns of 1st array- 2\n",
      "enter no. of rows of 2nd array- 2\n",
      "enter no. of columns of 2nd array- 2\n",
      "enter 0 0th element of first matrix- 1\n",
      "enter 0 1th element of first matrix- 2\n",
      "enter 1 0th element of first matrix- 3\n",
      "enter 1 1th element of first matrix- 4\n",
      "enter 0 0th element of second matrix- 5\n",
      "enter 0 1th element of second matrix- 6\n",
      "enter 1 0th element of second matrix- 7\n",
      "enter 1 1th element of second matrix- 8\n",
      "[19, 22]\n",
      "[43, 50]\n"
     ]
    }
   ],
   "source": [
    "r1=int(input('enter no. of rows of 1st array- '))\n",
    "c1=int(input('enter no. of columns of 1st array- '))\n",
    "r2=int(input('enter no. of rows of 2nd array- '))\n",
    "c2=int(input('enter no. of columns of 2nd array- '))\n",
    "arr1=[]\n",
    "arr2=[]\n",
    "arr3=[]*c2\n",
    "if(c1!=r2):\n",
    "    print('number of columns in 1st matrix must be equal to the number of rows in 2nd matrix')\n",
    "else:\n",
    "    for i in range(r1):\n",
    "        a=[]\n",
    "        for j in range(c1):\n",
    "            a.append(int(input(f'enter {i} {j}th element of first matrix- ')))\n",
    "        arr1.append(a)\n",
    "    for i in range(r2):\n",
    "        a=[]\n",
    "        for j in range(c2):\n",
    "            a.append(int(input(f'enter {i} {j}th element of second matrix- ')))\n",
    "        arr2.append(a)\n",
    "    for i in range(r1):\n",
    "        a=[]\n",
    "        for j in range(c2):\n",
    "            sum=0\n",
    "            for k in range(c1):\n",
    "                sum+=arr1[i][k]*arr2[k][j]\n",
    "            a.append(sum)\n",
    "        arr3.append(a)\n",
    "    for i in range(r1):\n",
    "        print(arr3[i])"
   ]
  },
  {
   "cell_type": "markdown",
   "metadata": {},
   "source": [
    " "
   ]
  }
 ],
 "metadata": {
  "kernelspec": {
   "display_name": "Python 3",
   "language": "python",
   "name": "python3"
  },
  "language_info": {
   "codemirror_mode": {
    "name": "ipython",
    "version": 3
   },
   "file_extension": ".py",
   "mimetype": "text/x-python",
   "name": "python",
   "nbconvert_exporter": "python",
   "pygments_lexer": "ipython3",
   "version": "3.8.3"
  }
 },
 "nbformat": 4,
 "nbformat_minor": 4
}
