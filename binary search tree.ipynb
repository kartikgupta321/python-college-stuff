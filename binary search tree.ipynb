{
 "cells": [
  {
   "cell_type": "code",
   "execution_count": 49,
   "metadata": {},
   "outputs": [
    {
     "name": "stdout",
     "output_type": "stream",
     "text": [
      "enter val for root node- 5\n",
      "enter 1 for insert, 2 for print, 3 for search, exit otherwise- 3\n",
      "enter value for search- 3\n",
      "value not found\n",
      "enter 1 for insert, 2 for print, 3 for search, exit otherwise- 3\n",
      "enter value for search- 5\n",
      "value found \n",
      "enter 1 for insert, 2 for print, 3 for search, exit otherwise- 5\n"
     ]
    }
   ],
   "source": [
    "class Node:\n",
    "    def __init__(self,key):\n",
    "        self.left=None\n",
    "        self.right=None\n",
    "        self.val=key\n",
    "        \n",
    "def printinorder(root):\n",
    "    if root:\n",
    "        printinorder(root.left)\n",
    "        print(root.val)\n",
    "        printinorder(root.right)\n",
    "        \n",
    "def printpreorder(root):\n",
    "    if root:\n",
    "        print(root.val)\n",
    "        printpreorder(root.left)\n",
    "        printpreorder(root.right)\n",
    "        \n",
    "def printpostorder(root):\n",
    "    if root:\n",
    "        printpostorder(root.left)\n",
    "        printpostorder(root.right)\n",
    "        print(root.val)\n",
    "        \n",
    "def insert(root, key):\n",
    "    if root is None:\n",
    "        return Node(key)\n",
    "    else:\n",
    "        if root.val == key:\n",
    "            return root\n",
    "        elif root.val < key:\n",
    "            root.right = insert(root.right, key)\n",
    "        else:\n",
    "            root.left = insert(root.left, key)\n",
    "    return root\n",
    "\n",
    "def search(root,key):\n",
    "    if root is None or root.val==key:\n",
    "        return root\n",
    "    if root.val<key:\n",
    "        return search(root.right,key)\n",
    "    return search(root.left,key)\n",
    "val=int(input('enter val for root node- '))\n",
    "b=Node(val)\n",
    "while 1:\n",
    "    choice=int(input('enter 1 for insert, 2 for print, 3 for search, exit otherwise- '))\n",
    "    if(choice==1):\n",
    "        val=int(input('enter value for insertion- '))\n",
    "        insert(b,val)\n",
    "    elif(choice==2):\n",
    "        choice=int(input('enter 1 for postorder, 2 for inorder, 3 for preorder, exit otherwise- '))\n",
    "        if(choice==1):\n",
    "            printpostorder(b)\n",
    "        elif(choice==2):\n",
    "            printinorder(b)\n",
    "        elif(choice==3):\n",
    "            printpreorder(b)\n",
    "        else:\n",
    "            break\n",
    "    elif(choice==3):\n",
    "        val=int(input('enter value for search- '))\n",
    "        print('value not found') if(search(b,val)==None) else print('value found ')\n",
    "    else: break"
   ]
  },
  {
   "cell_type": "code",
   "execution_count": null,
   "metadata": {},
   "outputs": [],
   "source": []
  }
 ],
 "metadata": {
  "kernelspec": {
   "display_name": "Python 3",
   "language": "python",
   "name": "python3"
  },
  "language_info": {
   "codemirror_mode": {
    "name": "ipython",
    "version": 3
   },
   "file_extension": ".py",
   "mimetype": "text/x-python",
   "name": "python",
   "nbconvert_exporter": "python",
   "pygments_lexer": "ipython3",
   "version": "3.8.3"
  }
 },
 "nbformat": 4,
 "nbformat_minor": 4
}
