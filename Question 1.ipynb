{
 "cells": [
  {
   "cell_type": "code",
   "execution_count": 13,
   "metadata": {},
   "outputs": [
    {
     "name": "stdout",
     "output_type": "stream",
     "text": [
      "[3, 13, 9]\n",
      "[8, 6, 15]\n",
      "[11, 6, 11]\n"
     ]
    }
   ],
   "source": [
    "# KARTIK GUPTA- BT20HCS230\n",
    "X = [[2,5,4], \n",
    "    [1,3,9], \n",
    "    [7 ,6,2]] \n",
    "Y = [[1,8,5], \n",
    "    [7,3,6], \n",
    "    [4,0,9]] \n",
    "  \n",
    "result = [[X[i][j] + Y[i][j]  for j in range\n",
    "(len(X[0]))] for i in range(len(X))] \n",
    "   \n",
    "for r in result: \n",
    "    print(r) "
   ]
  }
 ],
 "metadata": {
  "kernelspec": {
   "display_name": "Python 3",
   "language": "python",
   "name": "python3"
  },
  "language_info": {
   "codemirror_mode": {
    "name": "ipython",
    "version": 3
   },
   "file_extension": ".py",
   "mimetype": "text/x-python",
   "name": "python",
   "nbconvert_exporter": "python",
   "pygments_lexer": "ipython3",
   "version": "3.8.3"
  }
 },
 "nbformat": 4,
 "nbformat_minor": 4
}
